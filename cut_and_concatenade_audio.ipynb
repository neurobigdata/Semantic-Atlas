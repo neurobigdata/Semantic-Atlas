{
 "cells": [
  {
   "cell_type": "code",
   "execution_count": 9,
   "metadata": {
    "collapsed": false
   },
   "outputs": [],
   "source": [
    "from pydub import AudioSegment\n",
    "from pydub.playback import play"
   ]
  },
  {
   "cell_type": "code",
   "execution_count": 3,
   "metadata": {
    "collapsed": true
   },
   "outputs": [],
   "source": [
    "pl = AudioSegment.from_mp3('audio/forrest_audio_all.mp3')"
   ]
  },
  {
   "cell_type": "markdown",
   "metadata": {},
   "source": [
    "# Удаление сцен"
   ]
  },
  {
   "cell_type": "code",
   "execution_count": 19,
   "metadata": {
    "collapsed": true
   },
   "outputs": [],
   "source": [
    "def timestamp_str_to_miliseconds(timestamp):\n",
    "    \n",
    "    def time_to_sec(time):\n",
    "        time = time.split(':')\n",
    "        return float(time[0]) * 60 * 60 + float(time[1]) * 60 + float(time[2])\n",
    "    \n",
    "    time_start, time_end = timestamp.split(' --> ')\n",
    "    return int(time_to_sec(time_start) * 1000), int(time_to_sec(time_end) * 1000 + 1)"
   ]
  },
  {
   "cell_type": "code",
   "execution_count": 20,
   "metadata": {
    "collapsed": false
   },
   "outputs": [],
   "source": [
    "times_to_stay = [\n",
    "'00:00:00.00 --> 00:21:32.12',\n",
    "'00:24:13.24 --> 00:38:31.23', \n",
    "'00:38:58.20 --> 00:57:19.22', \n",
    "'00:59:31.17 --> 01:18:14.00', \n",
    "'01:20:24.16 --> 01:34:18.06', \n",
    "'01:37:14.19 --> 01:41:30.19',\n",
    "'01:42:49.19 --> 02:09:51.17']\n",
    "\n",
    "times_to_stay = map(timestamp_str_to_miliseconds, times_to_stay)"
   ]
  },
  {
   "cell_type": "code",
   "execution_count": 21,
   "metadata": {
    "collapsed": false
   },
   "outputs": [
    {
     "data": {
      "text/plain": [
       "[(0, 1292121),\n",
       " (1453240, 2311231),\n",
       " (2338200, 3439221),\n",
       " (3571170, 4694001),\n",
       " (4824160, 5658061),\n",
       " (5834190, 6090191),\n",
       " (6169190, 7791171)]"
      ]
     },
     "execution_count": 21,
     "metadata": {},
     "output_type": "execute_result"
    }
   ],
   "source": [
    "times_to_stay"
   ]
  },
  {
   "cell_type": "code",
   "execution_count": 24,
   "metadata": {
    "collapsed": false
   },
   "outputs": [],
   "source": [
    "cut_audio = pl[times_to_stay[0][0]: times_to_stay[0][1]]\n",
    "\n",
    "for time_frame in times_to_stay[1:]:\n",
    "    cut_audio += pl[time_frame[0]:time_frame[1]]"
   ]
  },
  {
   "cell_type": "code",
   "execution_count": 34,
   "metadata": {
    "collapsed": false
   },
   "outputs": [
    {
     "name": "stdout",
     "output_type": "stream",
     "text": [
      "118.09745  min  7085847  miliseconds \n"
     ]
    }
   ],
   "source": [
    "print len(cut_audio) * 1. / 1000. / 60., ' min ', len(cut_audio), \" miliseconds \""
   ]
  },
  {
   "cell_type": "markdown",
   "metadata": {},
   "source": [
    "# Режем на сегменты"
   ]
  },
  {
   "cell_type": "markdown",
   "metadata": {},
   "source": [
    " Except for the first movie segment, each segment started with a movie snippet of at least six seconds immediately preceding the movie scene boundary used to split the segments. The start of each segment was synchronized with the MRI scanner’s volume acquisition trigger signal. All segments, except for the first one, started by repeating the equivalent of three fMRI volumes from the previous segment."
   ]
  },
  {
   "cell_type": "code",
   "execution_count": 39,
   "metadata": {
    "collapsed": false
   },
   "outputs": [
    {
     "data": {
      "text/plain": [
       "array([  902000.,  1784000.,  2660000.,  3636000.,  4560000.,  5438000.,\n",
       "        6522000.,  7197040.])"
      ]
     },
     "execution_count": 39,
     "metadata": {},
     "output_type": "execute_result"
    }
   ],
   "source": [
    "import numpy as np\n",
    "\n",
    "segments_duration = [902., 882., 876., 976., 924., 878., 1084., 675.04] #in sec\n",
    "cumsum_segments_time = np.cumsum(np.array(segments_duration)) * 1000 #in milisec\n",
    "cumsum_segments_time"
   ]
  },
  {
   "cell_type": "code",
   "execution_count": 40,
   "metadata": {
    "collapsed": false
   },
   "outputs": [
    {
     "data": {
      "text/plain": [
       "<open file 'audio/forrest_segments/segment_1.mp3', mode 'wb+' at 0x7fa318151660>"
      ]
     },
     "execution_count": 40,
     "metadata": {},
     "output_type": "execute_result"
    }
   ],
   "source": [
    "pl[:cumsum_segments_time[0]].export('audio/forrest_segments/segment_1.mp3', 'mp3')"
   ]
  },
  {
   "cell_type": "code",
   "execution_count": 41,
   "metadata": {
    "collapsed": true
   },
   "outputs": [],
   "source": [
    "delay = 6000"
   ]
  },
  {
   "cell_type": "code",
   "execution_count": 43,
   "metadata": {
    "collapsed": true
   },
   "outputs": [],
   "source": [
    "for i in range(1, len(cumsum_segments_time)):\n",
    "    pl[cumsum_segments_time[i-1] - delay: \\\n",
    "       cumsum_segments_time[i]].export('audio/forrest_segments/segment_{}.mp3'.format(i+1),\n",
    "                                                                          'mp3')"
   ]
  },
  {
   "cell_type": "code",
   "execution_count": null,
   "metadata": {
    "collapsed": true
   },
   "outputs": [],
   "source": []
  },
  {
   "cell_type": "code",
   "execution_count": null,
   "metadata": {
    "collapsed": true
   },
   "outputs": [],
   "source": []
  },
  {
   "cell_type": "code",
   "execution_count": null,
   "metadata": {
    "collapsed": true
   },
   "outputs": [],
   "source": []
  },
  {
   "cell_type": "code",
   "execution_count": null,
   "metadata": {
    "collapsed": true
   },
   "outputs": [],
   "source": []
  }
 ],
 "metadata": {
  "kernelspec": {
   "display_name": "Python 2",
   "language": "python",
   "name": "python2"
  },
  "language_info": {
   "codemirror_mode": {
    "name": "ipython",
    "version": 2
   },
   "file_extension": ".py",
   "mimetype": "text/x-python",
   "name": "python",
   "nbconvert_exporter": "python",
   "pygments_lexer": "ipython2",
   "version": "2.7.10"
  }
 },
 "nbformat": 4,
 "nbformat_minor": 0
}
