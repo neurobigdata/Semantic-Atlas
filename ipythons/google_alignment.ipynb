{
 "cells": [
  {
   "cell_type": "code",
   "execution_count": 4,
   "metadata": {
    "collapsed": false
   },
   "outputs": [],
   "source": [
    "import pandas as pd\n",
    "import re\n",
    "import string\n",
    "import sys\n",
    "sys.path.append('/home/anya/aeneas')\n",
    "\n",
    "from aeneas.executetask import ExecuteTask\n",
    "from aeneas.task import Task\n",
    "from pydub import AudioSegment\n",
    "from pydub.playback import play\n",
    "from Bio import pairwise2\n",
    "from Bio.pairwise2 import format_alignment"
   ]
  },
  {
   "cell_type": "code",
   "execution_count": 5,
   "metadata": {
    "collapsed": true
   },
   "outputs": [],
   "source": [
    "def remove_trash(phrase):\n",
    "    for char in '[]{}()\\\"\\\"':\n",
    "        phrase = phrase.replace(char, '')\n",
    "\n",
    "    return phrase"
   ]
  },
  {
   "cell_type": "markdown",
   "metadata": {},
   "source": [
    "# Создание файлов входных данных для aeneas"
   ]
  },
  {
   "cell_type": "code",
   "execution_count": 1,
   "metadata": {
    "collapsed": true
   },
   "outputs": [],
   "source": [
    "SEGMENT_ID = 0\n",
    "RANGE_SEGMENT = range(0, 213)\n",
    "DELAY = 1."
   ]
  },
  {
   "cell_type": "code",
   "execution_count": 129,
   "metadata": {
    "collapsed": false,
    "scrolled": true
   },
   "outputs": [],
   "source": [
    "for input_number in RANGE_SEGMENT:\n",
    "    prefix = '{\"results\": '\n",
    "    try:\n",
    "        with open('/home/anya/Semantic-Atlas/data/aligned_segments/segment{}/gr_phrases/{}.txt'.format(SEGMENT_ID,\n",
    "                                                                                                       input_number)) as f:\n",
    "            text = f.read()\n",
    "            text = text.rstrip()\n",
    "            text = text[len(prefix):-1].split('}, {')\n",
    "\n",
    "        with open('/home/anya/Semantic-Atlas/data/aligned_segments/segment{}/aninp_phrases/{}.txt'.format(SEGMENT_ID,\n",
    "                                                                                                          input_number),'w') as f_out:\n",
    "            for output in text:\n",
    "                for matching in re.finditer('\"transcript\": ', output):\n",
    "                    phrase = output[matching.end():]\n",
    "                    phrase = remove_trash(phrase).split()\n",
    "                    for word in phrase:\n",
    "                        f_out.write(word + '\\n')\n",
    "    except Exception as e:\n",
    "        print input_number, e\n",
    "        "
   ]
  },
  {
   "cell_type": "markdown",
   "metadata": {},
   "source": [
    "# Выравнивание распознавания с помощью aeneas"
   ]
  },
  {
   "cell_type": "code",
   "execution_count": 130,
   "metadata": {
    "collapsed": false,
    "scrolled": true
   },
   "outputs": [
    {
     "name": "stdout",
     "output_type": "stream",
     "text": [
      "1600 The task text file seems to have no text fragments\n",
      "1605 The task text file seems to have no text fragments\n",
      "1606 The task text file seems to have no text fragments\n",
      "1622 The task text file seems to have no text fragments\n",
      "1625 The task text file seems to have no text fragments\n",
      "1630 The task text file seems to have no text fragments\n",
      "1639 The task text file seems to have no text fragments\n",
      "1641 The task text file seems to have no text fragments\n",
      "1652 The task text file seems to have no text fragments\n",
      "1653 The task text file seems to have no text fragments\n",
      "1656 The task text file seems to have no text fragments\n",
      "1662 The task text file seems to have no text fragments\n",
      "1672 The task text file seems to have no text fragments\n",
      "1675 The task text file seems to have no text fragments\n",
      "1702 The task text file seems to have no text fragments\n"
     ]
    }
   ],
   "source": [
    "for input_number in RANGE_SEGMENT:\n",
    "    input_file = '/home/anya/Semantic-Atlas/data/aligned_segments/segment{}/aninp_phrases/{}.txt'.format(SEGMENT_ID,\n",
    "                                                                                                         input_number)\n",
    "    output_file = '/home/anya/Semantic-Atlas/data/aligned_segments/segment{}/anout_phrases/{}.txt'.format(SEGMENT_ID,\n",
    "                                                                                                          input_number)\n",
    "    audio_path = '/home/anya/Semantic-Atlas/data/aligned_segments/segment{}/audio_phrases/{}.wav'.format(SEGMENT_ID,\n",
    "                                                                                                         input_number)\n",
    "    config_string = u\"task_language=deu|is_text_type=plain|os_task_file_format=txt|\"\n",
    "\n",
    "    try:\n",
    "        task = Task(config_string=config_string)\n",
    "        task.audio_file_path_absolute = audio_path\n",
    "        task.text_file_path_absolute = input_file\n",
    "        task.sync_map_file_path_absolute = output_file\n",
    "\n",
    "        ExecuteTask(task).execute()\n",
    "        task.output_sync_map_file()\n",
    "\n",
    "    except Exception as e:\n",
    "        with open(output_file, 'w') as f:\n",
    "            pass\n",
    "        print input_number, e"
   ]
  },
  {
   "cell_type": "code",
   "execution_count": 131,
   "metadata": {
    "collapsed": false
   },
   "outputs": [],
   "source": [
    "segment = pd.read_csv('/home/anya/Semantic-Atlas/data/aligned_segments/segment{}/segment{}_phrases.csv'.format(SEGMENT_ID,\n",
    "                                                                                                              SEGMENT_ID))\n",
    "segment.index = segment[u'Unnamed: 0']"
   ]
  },
  {
   "cell_type": "code",
   "execution_count": 132,
   "metadata": {
    "collapsed": false
   },
   "outputs": [
    {
     "data": {
      "text/html": [
       "<div>\n",
       "<table border=\"1\" class=\"dataframe\">\n",
       "  <thead>\n",
       "    <tr style=\"text-align: right;\">\n",
       "      <th></th>\n",
       "      <th>Unnamed: 0</th>\n",
       "      <th>start</th>\n",
       "      <th>end</th>\n",
       "      <th>text</th>\n",
       "    </tr>\n",
       "    <tr>\n",
       "      <th>Unnamed: 0</th>\n",
       "      <th></th>\n",
       "      <th></th>\n",
       "      <th></th>\n",
       "      <th></th>\n",
       "    </tr>\n",
       "  </thead>\n",
       "  <tbody>\n",
       "    <tr>\n",
       "      <th>1591</th>\n",
       "      <td>1591</td>\n",
       "      <td>6417.60</td>\n",
       "      <td>6421.900</td>\n",
       "      <td>ss auf einem spielplatz in einem park schaukel...</td>\n",
       "    </tr>\n",
       "    <tr>\n",
       "      <th>1592</th>\n",
       "      <td>1592</td>\n",
       "      <td>6424.35</td>\n",
       "      <td>6428.628</td>\n",
       "      <td>forrest ich bin krank</td>\n",
       "    </tr>\n",
       "    <tr>\n",
       "      <th>1593</th>\n",
       "      <td>1593</td>\n",
       "      <td>6431.07</td>\n",
       "      <td>6434.426</td>\n",
       "      <td>was hast du einen husten wegen einer erkaeltung</td>\n",
       "    </tr>\n",
       "    <tr>\n",
       "      <th>1594</th>\n",
       "      <td>1594</td>\n",
       "      <td>6434.51</td>\n",
       "      <td>6439.584</td>\n",
       "      <td>ich habe einen virus die aerzte wissen nicht w...</td>\n",
       "    </tr>\n",
       "    <tr>\n",
       "      <th>1595</th>\n",
       "      <td>1595</td>\n",
       "      <td>6439.67</td>\n",
       "      <td>6442.707</td>\n",
       "      <td>und es gibt nichts was sie dagegen tun koennen</td>\n",
       "    </tr>\n",
       "  </tbody>\n",
       "</table>\n",
       "</div>"
      ],
      "text/plain": [
       "            Unnamed: 0    start       end  \\\n",
       "Unnamed: 0                                  \n",
       "1591              1591  6417.60  6421.900   \n",
       "1592              1592  6424.35  6428.628   \n",
       "1593              1593  6431.07  6434.426   \n",
       "1594              1594  6434.51  6439.584   \n",
       "1595              1595  6439.67  6442.707   \n",
       "\n",
       "                                                         text  \n",
       "Unnamed: 0                                                     \n",
       "1591        ss auf einem spielplatz in einem park schaukel...  \n",
       "1592                                    forrest ich bin krank  \n",
       "1593          was hast du einen husten wegen einer erkaeltung  \n",
       "1594        ich habe einen virus die aerzte wissen nicht w...  \n",
       "1595           und es gibt nichts was sie dagegen tun koennen  "
      ]
     },
     "execution_count": 132,
     "metadata": {},
     "output_type": "execute_result"
    }
   ],
   "source": [
    "segment.head()"
   ]
  },
  {
   "cell_type": "code",
   "execution_count": 133,
   "metadata": {
    "collapsed": false,
    "scrolled": true
   },
   "outputs": [],
   "source": [
    "start_segment = segment.start[min(segment.index)] - DELAY\n",
    "with open('/home/anya/Semantic-Atlas/data/aligned_segments/segment{}/segment{}_words.txt'.format(SEGMENT_ID,\\\n",
    "                                                                                                 SEGMENT_ID), 'w') as f_out:\n",
    "    for i in RANGE_SEGMENT:\n",
    "        try:\n",
    "            audio_path = '/home/anya/Semantic-Atlas/data/aligned_segments/segment{}/audio_phrases/{}.wav'.format(SEGMENT_ID,i)\n",
    "\n",
    "            with open('/home/anya/Semantic-Atlas/data/aligned_segments/segment{}/anout_phrases/{}.txt'.format(SEGMENT_ID, i)) as f:\n",
    "                for str_out in f.readlines():\n",
    "                    id_w, start_w, end_w, word = str_out.rstrip().split(' ')\n",
    "                    f_out.write('{}\\t{}\\t{}\\n'.format(float(start_w) + segment.ix[i].start - start_segment, \n",
    "                                                      float(end_w) + segment.ix[i].start - start_segment, \n",
    "                                                      word[1:-1]))\n",
    "\n",
    "            #audio = AudioSegment.from_file(audio_path)\n",
    "            #start += len(audio) / 1000.\n",
    "        except Exception as e:\n",
    "            print i, e"
   ]
  },
  {
   "cell_type": "markdown",
   "metadata": {},
   "source": [
    "# Выравнивание сбутитров с помощью aeneas"
   ]
  },
  {
   "cell_type": "code",
   "execution_count": 124,
   "metadata": {
    "collapsed": true
   },
   "outputs": [],
   "source": [
    "def write_aeneas_input(segment_id):\n",
    "    folder_path = \"/home/anya/Semantic-Atlas/data/aligned_segments/segment{}/\".format(segment_id)\n",
    "    segment = pd.read_csv(folder_path + \"segment{}_phrases.csv\".format(segment_id))\n",
    "    segment.index = segment['Unnamed: 0']\n",
    "    \n",
    "    for ind, row in segment.iterrows():\n",
    "        with open(folder_path + \"aninp_srt/{}.txt\".format(ind), 'w') as f:\n",
    "            for word in row.text.split():\n",
    "                if word in ['ss', 's', '']:\n",
    "                    continue\n",
    "                else:\n",
    "                    f.write(word + '\\n')"
   ]
  },
  {
   "cell_type": "code",
   "execution_count": 125,
   "metadata": {
    "collapsed": true
   },
   "outputs": [],
   "source": [
    "def align_aeneas(segment_id, segment_range):\n",
    "    folder_path = \"/home/anya/Semantic-Atlas/data/aligned_segments/segment{}/\".format(segment_id)\n",
    "    config_string = u\"task_language=deu|is_text_type=plain|os_task_file_format=txt|\"\n",
    "    \n",
    "    for input_number in segment_range:\n",
    "        try:\n",
    "            input_file = folder_path + 'aninp_srt/{}.txt'.format(input_number)\n",
    "            output_file = folder_path + 'anout_srt/{}.txt'.format(input_number)\n",
    "            audio_path = folder_path + 'audio_phrases/{}.wav'.format(input_number)\n",
    "\n",
    "            task = Task(config_string=config_string)\n",
    "            task.audio_file_path_absolute = audio_path\n",
    "            task.text_file_path_absolute = input_file\n",
    "            task.sync_map_file_path_absolute = output_file\n",
    "\n",
    "            ExecuteTask(task).execute()\n",
    "            task.output_sync_map_file()\n",
    "        except Exception as e:\n",
    "            print input_number, e"
   ]
  },
  {
   "cell_type": "code",
   "execution_count": 114,
   "metadata": {
    "collapsed": true
   },
   "outputs": [],
   "source": [
    "def merge_phrases(segment_id, segment_range, delay=0.):\n",
    "    folder_path = \"/home/anya/Semantic-Atlas/data/aligned_segments/segment{}/\".format(segment_id)\n",
    "    segment = pd.read_csv(folder_path + \"segment{}_phrases.csv\".format(segment_id))\n",
    "    segment.index = segment['Unnamed: 0']\n",
    "\n",
    "    start_segment = segment.start[min(segment.index)] - delay\n",
    "    with open(folder_path + '/segment{}_words_srt.txt'.format(segment_id), 'w') as f_out:\n",
    "        for i in segment_range:\n",
    "            try:\n",
    "                audio_path = folder_path + 'audio_phrases/{}.wav'.format(i)\n",
    "\n",
    "                with open(folder_path + 'anout_srt/{}.txt'.format(i)) as f:\n",
    "                    for str_out in f.readlines():\n",
    "                        id_w, start_w, end_w, word = str_out.rstrip().split(' ')\n",
    "                        f_out.write('{}\\t{}\\t{}\\n'.format(float(start_w) + segment.ix[i].start - start_segment, \n",
    "                                                          float(end_w) + segment.ix[i].start - start_segment, \n",
    "                                                          word[1:-1]))\n",
    "            except Exception as e:\n",
    "                print i, e"
   ]
  },
  {
   "cell_type": "code",
   "execution_count": 115,
   "metadata": {
    "collapsed": false
   },
   "outputs": [],
   "source": [
    "def process_segment(segment_id, delay=0.):\n",
    "    folder_path = \"/home/anya/Semantic-Atlas/data/aligned_segments/segment{}/\".format(segment_id)\n",
    "    segment = pd.read_csv(folder_path + \"segment{}_phrases.csv\".format(segment_id))\n",
    "    segment.index = segment['Unnamed: 0']\n",
    "    start_ind = min(segment.index)\n",
    "    end_ind = max(segment.index)\n",
    "    \n",
    "    write_aeneas_input(segment_id)\n",
    "    align_aeneas(segment_id, range(start_ind, end_ind + 1))\n",
    "    merge_phrases(segment_id, range(start_ind, end_ind + 1), delay=delay)"
   ]
  },
  {
   "cell_type": "code",
   "execution_count": null,
   "metadata": {
    "collapsed": true
   },
   "outputs": [],
   "source": [
    "process_segment(0, delay=1.)"
   ]
  },
  {
   "cell_type": "code",
   "execution_count": 49,
   "metadata": {
    "collapsed": false
   },
   "outputs": [
    {
     "name": "stdout",
     "output_type": "stream",
     "text": [
      "439 File '/home/anya/Semantic-Atlas/data/aligned_segments/segment1/audio_phrases/439.wav' cannot be read\n",
      "439 [Errno 2] No such file or directory: '/home/anya/Semantic-Atlas/data/aligned_segments/segment1/anout_srt/439.txt'\n"
     ]
    }
   ],
   "source": [
    "process_segment(1)"
   ]
  },
  {
   "cell_type": "code",
   "execution_count": 94,
   "metadata": {
    "collapsed": false
   },
   "outputs": [],
   "source": [
    "process_segment(2, delay=-0.5)"
   ]
  },
  {
   "cell_type": "code",
   "execution_count": 105,
   "metadata": {
    "collapsed": true
   },
   "outputs": [],
   "source": [
    "process_segment(3, delay=-0.7)"
   ]
  },
  {
   "cell_type": "code",
   "execution_count": 116,
   "metadata": {
    "collapsed": true
   },
   "outputs": [],
   "source": [
    "process_segment(4, delay=2.2)"
   ]
  },
  {
   "cell_type": "code",
   "execution_count": 53,
   "metadata": {
    "collapsed": false
   },
   "outputs": [
    {
     "name": "stdout",
     "output_type": "stream",
     "text": [
      "1310 Audio file format not supported by ffprobe\n",
      "1310 [Errno 2] No such file or directory: '/home/anya/Semantic-Atlas/data/aligned_segments/segment5/anout_srt/1310.txt'\n"
     ]
    }
   ],
   "source": [
    "process_segment(5)"
   ]
  },
  {
   "cell_type": "code",
   "execution_count": 117,
   "metadata": {
    "collapsed": true
   },
   "outputs": [],
   "source": [
    "process_segment(6, delay=7.)"
   ]
  },
  {
   "cell_type": "code",
   "execution_count": 126,
   "metadata": {
    "collapsed": true
   },
   "outputs": [],
   "source": [
    "process_segment(7, delay=5.)"
   ]
  },
  {
   "cell_type": "code",
   "execution_count": null,
   "metadata": {
    "collapsed": true
   },
   "outputs": [],
   "source": []
  },
  {
   "cell_type": "code",
   "execution_count": null,
   "metadata": {
    "collapsed": true
   },
   "outputs": [],
   "source": []
  },
  {
   "cell_type": "code",
   "execution_count": null,
   "metadata": {
    "collapsed": true
   },
   "outputs": [],
   "source": []
  },
  {
   "cell_type": "code",
   "execution_count": 91,
   "metadata": {
    "collapsed": false
   },
   "outputs": [
    {
     "name": "stdout",
     "output_type": "stream",
     "text": [
      "+++++++++++++++++++++++++++++++++++++++++++++++++++++++++++++++++++++++++++++++++++++++++++++++++++++\n",
      "str1:  Nation auf einem schroffen Berg mit schneebedeckter Flanke fliegt eine Reihe Sterne\n",
      "str2:  auf einen schroffen Berg mit Schnee bedeckt der Flanke fliegt eine Reihe Sterne zu sie bilden an den\n",
      "\n",
      "Nation auf einem- schroffen Berg mit s-chnee-bedeckt--er Flanke fliegt eine Reihe Sterne---------------------\n",
      "|||||||||||||||||||||||||||||||||||||||||||||||||||||||||||||||||||||||||||||||||||||||||||||||||||||||||||||\n",
      "-------auf eine-n schroffen Berg mit -Schnee bedeckt der Flanke fliegt eine Reihe Sterne zu sie bilden an den\n",
      "  Score=74\n",
      "\n",
      "result:  Nation\n",
      "\n",
      "+++++++++++++++++++++++++++++++++++++++++++++++++++++++++++++++++++++++++++++++++++++++++++++++++++++\n",
      "str1:  auf einen schroffen Berg mit Schnee bedeckt der Flanke fliegt eine Reihe Sterne zu sie bilden an den\n",
      "str2:  hat mit schneebedeckter Flanke fliegt eine Reihe Sterne zu sie bilden an den Kranz und den Kids\n",
      "\n",
      "auf einen schroffen Berg-- mit S-chnee bedeckt der Flanke fliegt eine Reihe Sterne zu sie bilden an den-------------------\n",
      "||||||||||||||||||||||||||||||||||||||||||||||||||||||||||||||||||||||||||||||||||||||||||||||||||||||||||||||||||||||||||\n",
      "------------h-----------at mit -schnee-bedeckt--er Flanke fliegt eine Reihe Sterne zu sie bilden an den Kranz und den Kids\n",
      "  Score=73\n",
      "\n",
      "result:  auf einen schroffen Berg\n",
      "\n",
      "+++++++++++++++++++++++++++++++++++++++++++++++++++++++++++++++++++++++++++++++++++++++++++++++++++++\n",
      "str1:  hat mit schneebedeckter Flanke fliegt eine Reihe Sterne zu sie bilden an den Kranz und den Kids\n",
      "str2:  schlankes liegt eine Reihe Sterne zu sie bilden an den Kranz und den Gipfel Paramore\n",
      "\n",
      "hat mit schneebedeckter Flanke- fliegt eine Reihe Sterne zu sie bilden an den Kranz und den K-ids-------------\n",
      "||||||||||||||||||||||||||||||||||||||||||||||||||||||||||||||||||||||||||||||||||||||||||||||||||||||||||||||\n",
      "--------sch--------------lankes -liegt eine Reihe Sterne zu sie bilden an den Kranz und den -Gi--pfel Paramore\n",
      "  Score=69\n",
      "\n",
      "result:  hat mit schneebedeckter Flanke fliegt\n",
      "\n",
      "+++++++++++++++++++++++++++++++++++++++++++++++++++++++++++++++++++++++++++++++++++++++++++++++++++++\n",
      "str1:  schlankes liegt eine Reihe Sterne zu sie bilden an den Kranz und den Gipfel Paramore\n",
      "str2:  wie hei\\u00dft eine zu sie bilden an den Kranz und den Gipfel Paramount\n",
      "\n",
      "schlankes l-iegt -eine------- Reihe Sterne zu sie bilden an den Kranz und den Gipfel Paramore---\n",
      "||||||||||||||||||||||||||||||||||||||||||||||||||||||||||||||||||||||||||||||||||||||||||||||||\n",
      "-----------wie-- hei--\\u00dft -ei-------ne zu sie bilden an den Kranz und den Gipfel Paramo--unt\n",
      "  Score=59\n",
      "\n",
      "result:  schlankes liegt\n",
      "\n",
      "+++++++++++++++++++++++++++++++++++++++++++++++++++++++++++++++++++++++++++++++++++++++++++++++++++++\n",
      "str1:  wie hei\\u00dft eine zu sie bilden an den Kranz und den Gipfel Paramount\n",
      "str2:  sie bilden an den Kranz um Dinkelsb\\u00fchl Paramount\n",
      "\n",
      "wie hei\\u00dft eine zu sie bilden an den Kranz und den- G-ipf--el---------- Paramount\n",
      "|||||||||||||||||||||||||||||||||||||||||||||||||||||||||||||||||||||||||||||||||||||\n",
      "-----------------------sie bilden an den Kranz u------m -Di--nkelsb\\u00fchl Paramount\n",
      "  Score=39\n",
      "\n",
      "result:  wie hei\\u00dft eine zu\n",
      "\n",
      "+++++++++++++++++++++++++++++++++++++++++++++++++++++++++++++++++++++++++++++++++++++++++++++++++++++\n",
      "str1:  sie bilden an den Kranz um Dinkelsb\\u00fchl Paramount\n",
      "str2:  Tanz und denke zu Paramount\n",
      "\n",
      "sie bilden an den Kr-anz um-- Di--nkelsb\\--u00fchl Paramount\n",
      "||||||||||||||||||||||||||||||||||||||||||||||||||||||||||||\n",
      "--------------------Tanz u-nd --denke---- zu------ Paramount\n",
      "  Score=20\n",
      "\n",
      "result:  sie bilden an den Kranz um Dinkelsb\\u00fchl\n",
      "\n",
      "+++++++++++++++++++++++++++++++++++++++++++++++++++++++++++++++++++++++++++++++++++++++++++++++++++++\n",
      "str1:  Tanz und denke zu Paramount\n",
      "str2:  Paramount\n",
      "\n",
      "Tanz und denke zu Paramount\n",
      "|||||||||||||||||||||||||||\n",
      "------------------Paramount\n",
      "  Score=9\n",
      "\n",
      "result:  Tanz und denke zu\n",
      "\n"
     ]
    }
   ],
   "source": [
    "previous_phrase = download_phrase(2)\n",
    "\n",
    "for i in range(3,10):\n",
    "    current_phrase = download_phrase(i)\n",
    "    alignment = pairwise2.align.globalxx(previous_phrase, current_phrase, one_alignment_only=True)[0]\n",
    "    print '+++++++++++++++++++++++++++++++++++++++++++++++++++++++++++++++++++++++++++++++++++++++++++++++++++++'\n",
    "    print \"str1: \", previous_phrase\n",
    "    print 'str2: ', current_phrase\n",
    "    print\n",
    "    print format_alignment(*alignment)\n",
    "    print 'result: ', find_starting_offset_of_phrases(previous_phrase, current_phrase)\n",
    "    print\n",
    "    previous_phrase = current_phrase"
   ]
  },
  {
   "cell_type": "code",
   "execution_count": 92,
   "metadata": {
    "collapsed": false
   },
   "outputs": [
    {
     "name": "stdout",
     "output_type": "stream",
     "text": [
      "N-at-i-on\n",
      "|||||||||\n",
      "--at-i-on\n",
      "  Score=5\n",
      "\n"
     ]
    }
   ],
   "source": [
    "alignment = pairwise2.align.globalxx('Nation', '-at-i-on', one_alignment_only=True)[0]\n",
    "print format_alignment(*alignment)"
   ]
  },
  {
   "cell_type": "code",
   "execution_count": null,
   "metadata": {
    "collapsed": true
   },
   "outputs": [],
   "source": []
  },
  {
   "cell_type": "code",
   "execution_count": null,
   "metadata": {
    "collapsed": true
   },
   "outputs": [],
   "source": []
  },
  {
   "cell_type": "code",
   "execution_count": null,
   "metadata": {
    "collapsed": true
   },
   "outputs": [],
   "source": []
  },
  {
   "cell_type": "code",
   "execution_count": null,
   "metadata": {
    "collapsed": true
   },
   "outputs": [],
   "source": []
  }
 ],
 "metadata": {
  "kernelspec": {
   "display_name": "Python 2",
   "language": "python",
   "name": "python2"
  },
  "language_info": {
   "codemirror_mode": {
    "name": "ipython",
    "version": 2
   },
   "file_extension": ".py",
   "mimetype": "text/x-python",
   "name": "python",
   "nbconvert_exporter": "python",
   "pygments_lexer": "ipython2",
   "version": "2.7.10"
  }
 },
 "nbformat": 4,
 "nbformat_minor": 0
}
