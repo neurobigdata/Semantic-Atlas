{
 "cells": [
  {
   "cell_type": "code",
   "execution_count": 1,
   "metadata": {
    "collapsed": false
   },
   "outputs": [
    {
     "name": "stdout",
     "output_type": "stream",
     "text": [
      "Populating the interactive namespace from numpy and matplotlib\n"
     ]
    },
    {
     "name": "stderr",
     "output_type": "stream",
     "text": [
      "/home/anya/.local/lib/python2.7/site-packages/sklearn/cross_validation.py:44: DeprecationWarning: This module was deprecated in version 0.18 in favor of the model_selection module into which all the refactored classes and functions are moved. Also note that the interface of the new CV iterators are different from that of this module. This module will be removed in 0.20.\n",
      "  \"This module will be removed in 0.20.\", DeprecationWarning)\n"
     ]
    }
   ],
   "source": [
    "from sklearn.linear_model import Ridge\n",
    "import numpy as np\n",
    "import time\n",
    "import string\n",
    "# from copy import copy\n",
    "import pickle\n",
    "import pandas as pd\n",
    "import nibabel as nib\n",
    "import matplotlib.pyplot as plt\n",
    "import IPython\n",
    "import itertools\n",
    "from collections import defaultdict\n",
    "from sklearn.cross_validation import cross_val_score\n",
    "import sklearn.metrics\n",
    "\n",
    "%pylab inline"
   ]
  },
  {
   "cell_type": "markdown",
   "metadata": {},
   "source": [
    "# Подготовка субтитров"
   ]
  },
  {
   "cell_type": "code",
   "execution_count": 4,
   "metadata": {
    "collapsed": false
   },
   "outputs": [
    {
     "name": "stdout",
     "output_type": "stream",
     "text": [
      "[u'1', u'00:03:10,160 --> 00:03:14,631', u'Hallo. Mein Name ist Forrest.', u'Forrest Gump.', u'2']\n"
     ]
    }
   ],
   "source": [
    "umlautDictionary = {u'Ä': 'Ae', u'Ö': 'Oe', u'Ü': 'Ue',  u'ä': 'ae', u'ö': 'oe', u'ü': 'ue', u'ß':u'ss'}\n",
    "with open('/home/anya/Semantic-Atlas/data/forrest_srt/forrest_from_3.srt') as f_srt:\n",
    "    text = f_srt.read()\n",
    "    text = text.decode('utf-8')\n",
    "    \n",
    "for item, val in umlautDictionary.iteritems():\n",
    "    text = text.replace(item, val)\n",
    "\n",
    "text = text.split('\\r\\n')\n",
    "text = filter(lambda s: s != u'', text)\n",
    "print text[:5]"
   ]
  },
  {
   "cell_type": "code",
   "execution_count": 5,
   "metadata": {
    "collapsed": false
   },
   "outputs": [],
   "source": [
    "timestamps = filter(lambda s: '>' in s, text)\n",
    "number_indecies = filter(lambda s: text[s].isdigit(), range(len(text)))\n",
    "timestamp_indecies = filter(lambda s: text[s] in timestamps, range(len(text)))\n",
    "text_indecies = filter(lambda s: not (s in number_indecies or s in timestamp_indecies) , range(len(text)))\n",
    "\n",
    "assert len(timestamps) == len(number_indecies)"
   ]
  },
  {
   "cell_type": "code",
   "execution_count": 6,
   "metadata": {
    "collapsed": true
   },
   "outputs": [],
   "source": [
    "def timestamp_str_to_seconds(timestamp):\n",
    "    \n",
    "    def time_to_sec(time):\n",
    "        time = time.split(':')\n",
    "        return float(time[0]) * 60 * 60 + float(time[1]) * 60 + float(time[2])\n",
    "    \n",
    "    time_start, time_end = timestamp.split(' --> ')\n",
    "    return time_to_sec(time_start), time_to_sec(time_end)"
   ]
  },
  {
   "cell_type": "code",
   "execution_count": 7,
   "metadata": {
    "collapsed": false
   },
   "outputs": [
    {
     "name": "stdout",
     "output_type": "stream",
     "text": [
      "00:03:10,160 --> 00:03:14,631\n",
      "0 3 10\n",
      "0 3 14\n"
     ]
    }
   ],
   "source": [
    "parsed_timestamps = map(lambda s: [time.strptime(s[:12], '%H:%M:%S,%f'), \n",
    "                            time.strptime(s[17:], '%H:%M:%S,%f')], timestamps)\n",
    "print timestamps[0]\n",
    "print parsed_timestamps[0][0].tm_hour, parsed_timestamps[0][0].tm_min, parsed_timestamps[0][0].tm_sec\n",
    "print parsed_timestamps[0][1].tm_hour, parsed_timestamps[0][1].tm_min, parsed_timestamps[0][1].tm_sec"
   ]
  },
  {
   "cell_type": "code",
   "execution_count": 8,
   "metadata": {
    "collapsed": false
   },
   "outputs": [
    {
     "name": "stdout",
     "output_type": "stream",
     "text": [
      "[(190.16, 194.631), (200.32, 202.151), (204.48, 208.837), (208.92000000000002, 213.63), (216.0, 219.31)]\n"
     ]
    }
   ],
   "source": [
    "timestamps = map(lambda s: s.replace(',', '.'), timestamps)\n",
    "seconds = map(timestamp_str_to_seconds, timestamps)\n",
    "print seconds[:5]"
   ]
  },
  {
   "cell_type": "code",
   "execution_count": 9,
   "metadata": {
    "collapsed": false
   },
   "outputs": [],
   "source": [
    "table = string.maketrans(\"\", \"\")\n",
    "parsed_phrases = []\n",
    "\n",
    "for i, phrase in enumerate(text):\n",
    "    if i not in text_indecies:\n",
    "        continue\n",
    "    \n",
    "    phrase = phrase.encode('utf-8')\n",
    "    phrase = phrase.translate(table,string.punctuation)\n",
    "    phrase = phrase.translate(table, string.digits)\n",
    "    phrase = phrase.lower()\n",
    "    #phrase = phrase.split(' ')\n",
    "    phrase = filter(lambda s: s != u'', phrase)\n",
    "    \n",
    "    if phrase != []:\n",
    "        if i - 1 in text_indecies:\n",
    "            parsed_phrases[-1] += \" \" + phrase\n",
    "        else:\n",
    "            parsed_phrases.append(phrase)"
   ]
  },
  {
   "cell_type": "code",
   "execution_count": 10,
   "metadata": {
    "collapsed": true
   },
   "outputs": [],
   "source": [
    "assert len(parsed_phrases) == len(timestamps)"
   ]
  },
  {
   "cell_type": "code",
   "execution_count": 11,
   "metadata": {
    "collapsed": false,
    "scrolled": true
   },
   "outputs": [],
   "source": [
    "srt = pd.DataFrame(columns=['start', 'end', 'text'])\n",
    "srt.start = [seconds[i][0] for i in range(len(seconds))]\n",
    "srt.end = [seconds[i][1] for i in range(len(seconds))]\n",
    "srt.text = [parsed_phrases[i] for i in range(len(seconds))]"
   ]
  },
  {
   "cell_type": "markdown",
   "metadata": {},
   "source": [
    "# Удаление сцен"
   ]
  },
  {
   "cell_type": "code",
   "execution_count": 12,
   "metadata": {
    "collapsed": false
   },
   "outputs": [
    {
     "data": {
      "text/plain": [
       "[(0.0, 1292.12),\n",
       " (1453.24, 2311.23),\n",
       " (2338.2, 3439.22),\n",
       " (3571.17, 4694.0),\n",
       " (4824.16, 5658.06),\n",
       " (5834.19, 6090.19),\n",
       " (6169.19, 7791.17)]"
      ]
     },
     "execution_count": 12,
     "metadata": {},
     "output_type": "execute_result"
    }
   ],
   "source": [
    "# http://www.nature.com/articles/sdata20143/tables/1\n",
    "\n",
    "times_to_stay = [\n",
    "'00:00:00.00 --> 00:21:32.12',\n",
    "'00:24:13.24 --> 00:38:31.23', \n",
    "'00:38:58.20 --> 00:57:19.22', \n",
    "'00:59:31.17 --> 01:18:14.00', \n",
    "'01:20:24.16 --> 01:34:18.06', \n",
    "'01:37:14.19 --> 01:41:30.19',\n",
    "'01:42:49.19 --> 02:09:51.17']\n",
    "\n",
    "times_to_stay = map(timestamp_str_to_seconds, times_to_stay)\n",
    "times_to_stay"
   ]
  },
  {
   "cell_type": "code",
   "execution_count": 13,
   "metadata": {
    "collapsed": false
   },
   "outputs": [],
   "source": [
    "times_to_delete = [(times_to_stay[i][1], times_to_stay[i+1][0]) for i in range(0, len(times_to_stay)-1)]"
   ]
  },
  {
   "cell_type": "code",
   "execution_count": 14,
   "metadata": {
    "collapsed": true
   },
   "outputs": [],
   "source": [
    "def is_in_stimulus(record, times_to_stay=times_to_stay):\n",
    "    for time_moment_start, time_moment_end in times_to_delete:\n",
    "        if record.start >= time_moment_start and record.end <= time_moment_end:\n",
    "            return False\n",
    "        \n",
    "    return True"
   ]
  },
  {
   "cell_type": "code",
   "execution_count": 15,
   "metadata": {
    "collapsed": false
   },
   "outputs": [],
   "source": [
    "srt = srt.ix[[i for i in range(len(srt)) if is_in_stimulus(srt.ix[i])]]"
   ]
  },
  {
   "cell_type": "markdown",
   "metadata": {},
   "source": [
    "# Пересчет времени"
   ]
  },
  {
   "cell_type": "code",
   "execution_count": 16,
   "metadata": {
    "collapsed": true
   },
   "outputs": [],
   "source": [
    "def recount_time(time_moment):\n",
    "\n",
    "    index_to_delete = 0\n",
    "    for end_moment in times_to_delete[:, 0]:\n",
    "        if time_moment > end_moment:\n",
    "            index_to_delete += 1\n",
    "        else:\n",
    "            break\n",
    "            \n",
    "    return time_moment - deleted_contin[index_to_delete]"
   ]
  },
  {
   "cell_type": "code",
   "execution_count": 17,
   "metadata": {
    "collapsed": false
   },
   "outputs": [],
   "source": [
    "deleted_contin = np.cumsum(np.array([t[1] - t[0] for t in times_to_delete]))\n",
    "deleted_contin = np.hstack([[0], deleted_contin])\n",
    "times_to_delete = np.array(times_to_delete)\n",
    "\n",
    "srt['start'] = srt.start.apply(recount_time)\n",
    "srt['end'] = srt.end.apply(recount_time)\n",
    "\n",
    "#data['phrase'] = data.text.apply(lambda x: ' '.join(x))\n",
    "#srt = srt[['start', 'end', 'text']]\n",
    "srt.to_csv('/home/anya/Semantic-Atlas/data/forrest_srt/recounted_times.csv', encoding='utf-8')"
   ]
  },
  {
   "cell_type": "markdown",
   "metadata": {},
   "source": [
    "# Подготовка описания сцен"
   ]
  },
  {
   "cell_type": "code",
   "execution_count": 18,
   "metadata": {
    "collapsed": false,
    "scrolled": false
   },
   "outputs": [
    {
     "name": "stderr",
     "output_type": "stream",
     "text": [
      "/home/anya/.local/lib/python2.7/site-packages/ipykernel/__main__.py:13: SettingWithCopyWarning: \n",
      "A value is trying to be set on a copy of a slice from a DataFrame\n",
      "\n",
      "See the caveats in the documentation: http://pandas.pydata.org/pandas-docs/stable/indexing.html#indexing-view-versus-copy\n"
     ]
    }
   ],
   "source": [
    "description = pd.read_csv('/home/anya/Semantic-Atlas/data/forrest_srt/german_audio_description.csv')\n",
    "umlautDictionary = {u'Ä': 'Ae', u'Ö': 'Oe', u'Ü': 'Ue',  u'ä': 'ae', u'ö': 'oe', u'ü': 'ue', u'ß':u'ss'}\n",
    "\n",
    "for i, phrase in enumerate(description.text):\n",
    "    phrase = description.text[i].lower()\n",
    "    phrase = phrase.translate(table,string.punctuation)\n",
    "    phrase = phrase.translate(table, string.digits)\n",
    "    phrase = phrase.decode('utf-8')\n",
    "    for uml, norm_let in umlautDictionary.iteritems():\n",
    "        phrase = phrase.replace(uml, norm_let)\n",
    "    \n",
    "    #phrase = phrase.split()\n",
    "    description.text[i] = 'ss ' + phrase"
   ]
  },
  {
   "cell_type": "markdown",
   "metadata": {},
   "source": [
    "# Соединение субтитров и описания сцен"
   ]
  },
  {
   "cell_type": "code",
   "execution_count": 19,
   "metadata": {
    "collapsed": false,
    "scrolled": true
   },
   "outputs": [
    {
     "name": "stderr",
     "output_type": "stream",
     "text": [
      "/home/anya/.local/lib/python2.7/site-packages/ipykernel/__main__.py:2: FutureWarning: sort(columns=....) is deprecated, use sort_values(by=.....)\n",
      "  from ipykernel import kernelapp as app\n"
     ]
    },
    {
     "data": {
      "text/html": [
       "<div>\n",
       "<table border=\"1\" class=\"dataframe\">\n",
       "  <thead>\n",
       "    <tr style=\"text-align: right;\">\n",
       "      <th></th>\n",
       "      <th>start</th>\n",
       "      <th>end</th>\n",
       "      <th>text</th>\n",
       "    </tr>\n",
       "  </thead>\n",
       "  <tbody>\n",
       "    <tr>\n",
       "      <th>0</th>\n",
       "      <td>1.30</td>\n",
       "      <td>10.500</td>\n",
       "      <td>ss eine computeranimation auf einen schroffen ...</td>\n",
       "    </tr>\n",
       "    <tr>\n",
       "      <th>1</th>\n",
       "      <td>15.90</td>\n",
       "      <td>19.500</td>\n",
       "      <td>ss vor bewoelktem himmel schwebt eine grauweis...</td>\n",
       "    </tr>\n",
       "    <tr>\n",
       "      <th>2</th>\n",
       "      <td>22.60</td>\n",
       "      <td>25.800</td>\n",
       "      <td>ss in einer stadt segelt sie ueber die baumkro...</td>\n",
       "    </tr>\n",
       "    <tr>\n",
       "      <th>3</th>\n",
       "      <td>31.70</td>\n",
       "      <td>36.700</td>\n",
       "      <td>ss ein robertzemeckisfilm tom hanks als forres...</td>\n",
       "    </tr>\n",
       "    <tr>\n",
       "      <th>4</th>\n",
       "      <td>40.70</td>\n",
       "      <td>61.000</td>\n",
       "      <td>ss die feder fliegt ein paar meter ueber den w...</td>\n",
       "    </tr>\n",
       "    <tr>\n",
       "      <th>5</th>\n",
       "      <td>68.70</td>\n",
       "      <td>73.000</td>\n",
       "      <td>ss in der naehe eines kirchturms sinkt die fed...</td>\n",
       "    </tr>\n",
       "    <tr>\n",
       "      <th>6</th>\n",
       "      <td>77.00</td>\n",
       "      <td>91.500</td>\n",
       "      <td>ss die hoerfilmfassung wurde produziert vom ba...</td>\n",
       "    </tr>\n",
       "    <tr>\n",
       "      <th>7</th>\n",
       "      <td>93.00</td>\n",
       "      <td>101.000</td>\n",
       "      <td>ss die feder trudelt zu einer strasse hinunter...</td>\n",
       "    </tr>\n",
       "    <tr>\n",
       "      <th>8</th>\n",
       "      <td>105.60</td>\n",
       "      <td>124.900</td>\n",
       "      <td>ss der mann ueberquert die fahrbahn die feder ...</td>\n",
       "    </tr>\n",
       "    <tr>\n",
       "      <th>9</th>\n",
       "      <td>126.20</td>\n",
       "      <td>145.700</td>\n",
       "      <td>ss der mann hebt sie auf und betrachtet sie  e...</td>\n",
       "    </tr>\n",
       "    <tr>\n",
       "      <th>10</th>\n",
       "      <td>147.00</td>\n",
       "      <td>160.200</td>\n",
       "      <td>ss zwischen den akkurat gepackten sachen liege...</td>\n",
       "    </tr>\n",
       "    <tr>\n",
       "      <th>11</th>\n",
       "      <td>161.80</td>\n",
       "      <td>164.400</td>\n",
       "      <td>ss der mann schaut mit ernstem gesicht in leere</td>\n",
       "    </tr>\n",
       "    <tr>\n",
       "      <th>12</th>\n",
       "      <td>166.10</td>\n",
       "      <td>175.200</td>\n",
       "      <td>ss ein linienbus haelt bisschen quietschen dar...</td>\n",
       "    </tr>\n",
       "    <tr>\n",
       "      <th>13</th>\n",
       "      <td>178.60</td>\n",
       "      <td>189.100</td>\n",
       "      <td>ss der mann oeffnet die pralinenschachtel eine...</td>\n",
       "    </tr>\n",
       "    <tr>\n",
       "      <th>14</th>\n",
       "      <td>190.16</td>\n",
       "      <td>194.631</td>\n",
       "      <td>hallo mein name ist forrest forrest gump</td>\n",
       "    </tr>\n",
       "    <tr>\n",
       "      <th>15</th>\n",
       "      <td>194.40</td>\n",
       "      <td>199.600</td>\n",
       "      <td>ss die schwester sieht kurz hoch nickt und lie...</td>\n",
       "    </tr>\n",
       "    <tr>\n",
       "      <th>16</th>\n",
       "      <td>200.32</td>\n",
       "      <td>202.151</td>\n",
       "      <td>moechten sie eine praline</td>\n",
       "    </tr>\n",
       "    <tr>\n",
       "      <th>17</th>\n",
       "      <td>202.00</td>\n",
       "      <td>203.100</td>\n",
       "      <td>ss sie schuettelt den kopf</td>\n",
       "    </tr>\n",
       "    <tr>\n",
       "      <th>18</th>\n",
       "      <td>204.48</td>\n",
       "      <td>208.837</td>\n",
       "      <td>die koennte ich pfundweise essen</td>\n",
       "    </tr>\n",
       "    <tr>\n",
       "      <th>19</th>\n",
       "      <td>208.92</td>\n",
       "      <td>213.630</td>\n",
       "      <td>meine mama sagte immer das leben ist wie eine ...</td>\n",
       "    </tr>\n",
       "    <tr>\n",
       "      <th>20</th>\n",
       "      <td>214.10</td>\n",
       "      <td>215.500</td>\n",
       "      <td>ss er steckt sich eine in den mund</td>\n",
       "    </tr>\n",
       "    <tr>\n",
       "      <th>21</th>\n",
       "      <td>216.00</td>\n",
       "      <td>219.310</td>\n",
       "      <td>man weiss nie was man kriegt</td>\n",
       "    </tr>\n",
       "    <tr>\n",
       "      <th>22</th>\n",
       "      <td>217.90</td>\n",
       "      <td>219.400</td>\n",
       "      <td>ss die schwester reagiert nicht</td>\n",
       "    </tr>\n",
       "    <tr>\n",
       "      <th>23</th>\n",
       "      <td>221.00</td>\n",
       "      <td>223.600</td>\n",
       "      <td>ss forrest zeigt auf ihre strahlend weissen ha...</td>\n",
       "    </tr>\n",
       "    <tr>\n",
       "      <th>24</th>\n",
       "      <td>225.60</td>\n",
       "      <td>228.353</td>\n",
       "      <td>das muessen ja bequeme schuhe sein</td>\n",
       "    </tr>\n",
       "    <tr>\n",
       "      <th>25</th>\n",
       "      <td>228.44</td>\n",
       "      <td>233.230</td>\n",
       "      <td>ich wette damit kann man den ganzen tag heruml...</td>\n",
       "    </tr>\n",
       "    <tr>\n",
       "      <th>26</th>\n",
       "      <td>235.72</td>\n",
       "      <td>240.032</td>\n",
       "      <td>ich wuenschte ich haette so welche  meine fue...</td>\n",
       "    </tr>\n",
       "    <tr>\n",
       "      <th>27</th>\n",
       "      <td>241.48</td>\n",
       "      <td>243.869</td>\n",
       "      <td>mama sagte immer es gibt vieles</td>\n",
       "    </tr>\n",
       "    <tr>\n",
       "      <th>28</th>\n",
       "      <td>243.96</td>\n",
       "      <td>247.111</td>\n",
       "      <td>was man an den schuhen einer person ablesen kann</td>\n",
       "    </tr>\n",
       "    <tr>\n",
       "      <th>29</th>\n",
       "      <td>247.20</td>\n",
       "      <td>250.476</td>\n",
       "      <td>wohin sie gehen wo sie gewesen sind</td>\n",
       "    </tr>\n",
       "    <tr>\n",
       "      <th>...</th>\n",
       "      <td>...</td>\n",
       "      <td>...</td>\n",
       "      <td>...</td>\n",
       "    </tr>\n",
       "    <tr>\n",
       "      <th>1690</th>\n",
       "      <td>6940.40</td>\n",
       "      <td>6941.600</td>\n",
       "      <td>ss forrest sieht ihm nach</td>\n",
       "    </tr>\n",
       "    <tr>\n",
       "      <th>1691</th>\n",
       "      <td>6945.30</td>\n",
       "      <td>6947.800</td>\n",
       "      <td>ss an der strasse sitzen vater und sohn auf ei...</td>\n",
       "    </tr>\n",
       "    <tr>\n",
       "      <th>1692</th>\n",
       "      <td>6949.55</td>\n",
       "      <td>6953.225</td>\n",
       "      <td>hier ist dein bus ok</td>\n",
       "    </tr>\n",
       "    <tr>\n",
       "      <th>1693</th>\n",
       "      <td>6950.00</td>\n",
       "      <td>6952.400</td>\n",
       "      <td>ss s er zieht das curious georgebuch aus der s...</td>\n",
       "    </tr>\n",
       "    <tr>\n",
       "      <th>1694</th>\n",
       "      <td>6955.23</td>\n",
       "      <td>6957.141</td>\n",
       "      <td>das kenne ich</td>\n",
       "    </tr>\n",
       "    <tr>\n",
       "      <th>1695</th>\n",
       "      <td>6957.23</td>\n",
       "      <td>6959.903</td>\n",
       "      <td>ich nehme das zum vorlesen mit</td>\n",
       "    </tr>\n",
       "    <tr>\n",
       "      <th>1696</th>\n",
       "      <td>6959.99</td>\n",
       "      <td>6962.629</td>\n",
       "      <td>weil grandma dir das immer vorgelesen hat</td>\n",
       "    </tr>\n",
       "    <tr>\n",
       "      <th>1697</th>\n",
       "      <td>6962.71</td>\n",
       "      <td>6964.666</td>\n",
       "      <td>mein lieblingsbuch</td>\n",
       "    </tr>\n",
       "    <tr>\n",
       "      <th>1698</th>\n",
       "      <td>6963.70</td>\n",
       "      <td>6967.000</td>\n",
       "      <td>ss s forrest blaettert darin die grauweisse fe...</td>\n",
       "    </tr>\n",
       "    <tr>\n",
       "      <th>1699</th>\n",
       "      <td>6969.70</td>\n",
       "      <td>6971.300</td>\n",
       "      <td>ss s er steckt das buch zurueck in die tasche</td>\n",
       "    </tr>\n",
       "    <tr>\n",
       "      <th>1700</th>\n",
       "      <td>6971.55</td>\n",
       "      <td>6973.745</td>\n",
       "      <td>auf gehts</td>\n",
       "    </tr>\n",
       "    <tr>\n",
       "      <th>1701</th>\n",
       "      <td>6972.90</td>\n",
       "      <td>6976.700</td>\n",
       "      <td>ss mit der tasche ueber der schulter und einer...</td>\n",
       "    </tr>\n",
       "    <tr>\n",
       "      <th>1702</th>\n",
       "      <td>6980.47</td>\n",
       "      <td>6981.869</td>\n",
       "      <td>nicht</td>\n",
       "    </tr>\n",
       "    <tr>\n",
       "      <th>1703</th>\n",
       "      <td>6983.95</td>\n",
       "      <td>6988.944</td>\n",
       "      <td>ich sage nur dass ich dich liebe  ich hab dic...</td>\n",
       "    </tr>\n",
       "    <tr>\n",
       "      <th>1704</th>\n",
       "      <td>6989.03</td>\n",
       "      <td>6992.102</td>\n",
       "      <td>ich warte hier auf dich wenn du zurueckkommst</td>\n",
       "    </tr>\n",
       "    <tr>\n",
       "      <th>1705</th>\n",
       "      <td>6992.30</td>\n",
       "      <td>6994.900</td>\n",
       "      <td>ss der junge sieht zur busfahrerin hoch die ka...</td>\n",
       "    </tr>\n",
       "    <tr>\n",
       "      <th>1706</th>\n",
       "      <td>6996.43</td>\n",
       "      <td>7000.662</td>\n",
       "      <td>du weisst dass das der bus zur schule ist nich...</td>\n",
       "    </tr>\n",
       "    <tr>\n",
       "      <th>1707</th>\n",
       "      <td>7000.75</td>\n",
       "      <td>7005.380</td>\n",
       "      <td>klar und sie sind dorothy harris und ich bin f...</td>\n",
       "    </tr>\n",
       "    <tr>\n",
       "      <th>1708</th>\n",
       "      <td>7003.20</td>\n",
       "      <td>7006.100</td>\n",
       "      <td>ss sie lacht ihn an der kleine winkt seinem va...</td>\n",
       "    </tr>\n",
       "    <tr>\n",
       "      <th>1709</th>\n",
       "      <td>7017.20</td>\n",
       "      <td>7018.600</td>\n",
       "      <td>ss forrest sieht dem bus nach</td>\n",
       "    </tr>\n",
       "    <tr>\n",
       "      <th>1710</th>\n",
       "      <td>7023.70</td>\n",
       "      <td>7027.000</td>\n",
       "      <td>ss er setzt sich wieder auf den baumstumpf und...</td>\n",
       "    </tr>\n",
       "    <tr>\n",
       "      <th>1711</th>\n",
       "      <td>7030.20</td>\n",
       "      <td>7034.200</td>\n",
       "      <td>ss forrests haende ruhen auf seinen knien</td>\n",
       "    </tr>\n",
       "    <tr>\n",
       "      <th>1712</th>\n",
       "      <td>7034.10</td>\n",
       "      <td>7038.000</td>\n",
       "      <td>ss zwischen seinen fuessen liegt die feder im ...</td>\n",
       "    </tr>\n",
       "    <tr>\n",
       "      <th>1713</th>\n",
       "      <td>7047.00</td>\n",
       "      <td>7053.000</td>\n",
       "      <td>ss die feder steigt hoeher in die luft dabei d...</td>\n",
       "    </tr>\n",
       "    <tr>\n",
       "      <th>1714</th>\n",
       "      <td>7056.80</td>\n",
       "      <td>7060.100</td>\n",
       "      <td>ss die feder fliegt ueber die wipfel der maech...</td>\n",
       "    </tr>\n",
       "    <tr>\n",
       "      <th>1715</th>\n",
       "      <td>7064.50</td>\n",
       "      <td>7067.600</td>\n",
       "      <td>ss hoch ueber der feder lugt zwischen wolken d...</td>\n",
       "    </tr>\n",
       "    <tr>\n",
       "      <th>1716</th>\n",
       "      <td>7071.20</td>\n",
       "      <td>7073.800</td>\n",
       "      <td>ss die feder sinkt etwas herab und wirbelt herum</td>\n",
       "    </tr>\n",
       "    <tr>\n",
       "      <th>1717</th>\n",
       "      <td>7076.20</td>\n",
       "      <td>7077.300</td>\n",
       "      <td>ss sie wird wieder angehoben</td>\n",
       "    </tr>\n",
       "    <tr>\n",
       "      <th>1718</th>\n",
       "      <td>7080.30</td>\n",
       "      <td>7081.700</td>\n",
       "      <td>ss … und schwebt auf die kamera zu</td>\n",
       "    </tr>\n",
       "    <tr>\n",
       "      <th>1719</th>\n",
       "      <td>7083.20</td>\n",
       "      <td>7084.300</td>\n",
       "      <td>ss das bild wird schwarz</td>\n",
       "    </tr>\n",
       "  </tbody>\n",
       "</table>\n",
       "<p>1720 rows × 3 columns</p>\n",
       "</div>"
      ],
      "text/plain": [
       "        start       end                                               text\n",
       "0        1.30    10.500  ss eine computeranimation auf einen schroffen ...\n",
       "1       15.90    19.500  ss vor bewoelktem himmel schwebt eine grauweis...\n",
       "2       22.60    25.800  ss in einer stadt segelt sie ueber die baumkro...\n",
       "3       31.70    36.700  ss ein robertzemeckisfilm tom hanks als forres...\n",
       "4       40.70    61.000  ss die feder fliegt ein paar meter ueber den w...\n",
       "5       68.70    73.000  ss in der naehe eines kirchturms sinkt die fed...\n",
       "6       77.00    91.500  ss die hoerfilmfassung wurde produziert vom ba...\n",
       "7       93.00   101.000  ss die feder trudelt zu einer strasse hinunter...\n",
       "8      105.60   124.900  ss der mann ueberquert die fahrbahn die feder ...\n",
       "9      126.20   145.700  ss der mann hebt sie auf und betrachtet sie  e...\n",
       "10     147.00   160.200  ss zwischen den akkurat gepackten sachen liege...\n",
       "11     161.80   164.400    ss der mann schaut mit ernstem gesicht in leere\n",
       "12     166.10   175.200  ss ein linienbus haelt bisschen quietschen dar...\n",
       "13     178.60   189.100  ss der mann oeffnet die pralinenschachtel eine...\n",
       "14     190.16   194.631           hallo mein name ist forrest forrest gump\n",
       "15     194.40   199.600  ss die schwester sieht kurz hoch nickt und lie...\n",
       "16     200.32   202.151                          moechten sie eine praline\n",
       "17     202.00   203.100                         ss sie schuettelt den kopf\n",
       "18     204.48   208.837                   die koennte ich pfundweise essen\n",
       "19     208.92   213.630  meine mama sagte immer das leben ist wie eine ...\n",
       "20     214.10   215.500                 ss er steckt sich eine in den mund\n",
       "21     216.00   219.310                       man weiss nie was man kriegt\n",
       "22     217.90   219.400                    ss die schwester reagiert nicht\n",
       "23     221.00   223.600  ss forrest zeigt auf ihre strahlend weissen ha...\n",
       "24     225.60   228.353                 das muessen ja bequeme schuhe sein\n",
       "25     228.44   233.230  ich wette damit kann man den ganzen tag heruml...\n",
       "26     235.72   240.032   ich wuenschte ich haette so welche  meine fue...\n",
       "27     241.48   243.869                    mama sagte immer es gibt vieles\n",
       "28     243.96   247.111   was man an den schuhen einer person ablesen kann\n",
       "29     247.20   250.476                wohin sie gehen wo sie gewesen sind\n",
       "...       ...       ...                                                ...\n",
       "1690  6940.40  6941.600                          ss forrest sieht ihm nach\n",
       "1691  6945.30  6947.800  ss an der strasse sitzen vater und sohn auf ei...\n",
       "1692  6949.55  6953.225                               hier ist dein bus ok\n",
       "1693  6950.00  6952.400  ss s er zieht das curious georgebuch aus der s...\n",
       "1694  6955.23  6957.141                                      das kenne ich\n",
       "1695  6957.23  6959.903                     ich nehme das zum vorlesen mit\n",
       "1696  6959.99  6962.629          weil grandma dir das immer vorgelesen hat\n",
       "1697  6962.71  6964.666                                 mein lieblingsbuch\n",
       "1698  6963.70  6967.000  ss s forrest blaettert darin die grauweisse fe...\n",
       "1699  6969.70  6971.300      ss s er steckt das buch zurueck in die tasche\n",
       "1700  6971.55  6973.745                                          auf gehts\n",
       "1701  6972.90  6976.700  ss mit der tasche ueber der schulter und einer...\n",
       "1702  6980.47  6981.869                                              nicht\n",
       "1703  6983.95  6988.944   ich sage nur dass ich dich liebe  ich hab dic...\n",
       "1704  6989.03  6992.102      ich warte hier auf dich wenn du zurueckkommst\n",
       "1705  6992.30  6994.900  ss der junge sieht zur busfahrerin hoch die ka...\n",
       "1706  6996.43  7000.662  du weisst dass das der bus zur schule ist nich...\n",
       "1707  7000.75  7005.380  klar und sie sind dorothy harris und ich bin f...\n",
       "1708  7003.20  7006.100  ss sie lacht ihn an der kleine winkt seinem va...\n",
       "1709  7017.20  7018.600                      ss forrest sieht dem bus nach\n",
       "1710  7023.70  7027.000  ss er setzt sich wieder auf den baumstumpf und...\n",
       "1711  7030.20  7034.200          ss forrests haende ruhen auf seinen knien\n",
       "1712  7034.10  7038.000  ss zwischen seinen fuessen liegt die feder im ...\n",
       "1713  7047.00  7053.000  ss die feder steigt hoeher in die luft dabei d...\n",
       "1714  7056.80  7060.100  ss die feder fliegt ueber die wipfel der maech...\n",
       "1715  7064.50  7067.600  ss hoch ueber der feder lugt zwischen wolken d...\n",
       "1716  7071.20  7073.800   ss die feder sinkt etwas herab und wirbelt herum\n",
       "1717  7076.20  7077.300                       ss sie wird wieder angehoben\n",
       "1718  7080.30  7081.700                 ss … und schwebt auf die kamera zu\n",
       "1719  7083.20  7084.300                           ss das bild wird schwarz\n",
       "\n",
       "[1720 rows x 3 columns]"
      ]
     },
     "execution_count": 19,
     "metadata": {},
     "output_type": "execute_result"
    }
   ],
   "source": [
    "data = pd.concat([description, srt])\n",
    "data.sort(columns='start', inplace=True)\n",
    "data.index = range(len(data))\n",
    "data"
   ]
  },
  {
   "cell_type": "markdown",
   "metadata": {
    "collapsed": true
   },
   "source": [
    "# Разбиение на сегменты"
   ]
  },
  {
   "cell_type": "code",
   "execution_count": 20,
   "metadata": {
    "collapsed": true
   },
   "outputs": [],
   "source": [
    "# http://www.nature.com/articles/sdata20143/#f2\n",
    "segments_time = [902., 882., 876., 976., 924., 878., 1084., 675.]"
   ]
  },
  {
   "cell_type": "code",
   "execution_count": 21,
   "metadata": {
    "collapsed": false
   },
   "outputs": [],
   "source": [
    "data['duration'] = data.end - data.start"
   ]
  },
  {
   "cell_type": "code",
   "execution_count": 22,
   "metadata": {
    "collapsed": false,
    "scrolled": true
   },
   "outputs": [],
   "source": [
    "def print_subs(data, filename, filepath, delay=0.):\n",
    "    start = data.ix[data.index[0]].start\n",
    "    with open(filepath + filename, 'w') as f_out:\n",
    "        for item in data.iterrows():\n",
    "            f_out.write('{}\\t{}\\t{}\\n'.format(item[1].start - start + delay,\n",
    "                                              item[1].end - start + delay,\n",
    "                                              item[1].text.encode('utf-8')))"
   ]
  },
  {
   "cell_type": "code",
   "execution_count": 24,
   "metadata": {
    "collapsed": true
   },
   "outputs": [],
   "source": [
    "def write_script_for_cut_audio(segment_start, segment_end, filepathname, segment_numb, data=data, delay=0.):\n",
    "    data1 = data[data.start > segment_start]\n",
    "    data1 = data1[data1.end < segment_end]\n",
    "    \n",
    "    moment_start = data1.ix[data1.index[0]].start\n",
    "    data1.start = data1.start - moment_start\n",
    "    data1.end = data1.end - moment_start\n",
    "    \n",
    "    with open(filepathname, 'w') as do:\n",
    "        for ix, row in data1.iterrows():\n",
    "            start, end = row.start, row.end\n",
    "            command = ('ffmpeg -i /home/anya/Semantic-Atlas/audio/forrest_segments/fg_ad_seg{segment_id}.mkv -ss {start} -t {duration} '\n",
    "                '-acodec pcm_s16le -ar 16000 -ac 1 -y /home/anya/Semantic-Atlas/data/aligned_segments/segment{segment_id}/audio_phrases/{index}.wav').format(\n",
    "                start=start + delay,\n",
    "                duration=end - start,\n",
    "                index=ix,\n",
    "                segment_id=segment_numb)\n",
    "            do.write(command + '\\n')"
   ]
  },
  {
   "cell_type": "code",
   "execution_count": null,
   "metadata": {
    "collapsed": true
   },
   "outputs": [],
   "source": []
  },
  {
   "cell_type": "code",
   "execution_count": 23,
   "metadata": {
    "collapsed": false
   },
   "outputs": [],
   "source": [
    "data1 = data[data.start > 885]\n",
    "data1 = data1[data1.end < 1768]\n",
    "print_subs(data1, 'segment1_phrases.txt', '/home/anya/Semantic-Atlas/data/forrest_srt/')\n",
    "print_subs(data1, 'segment1_phrases.txt', '/home/anya/Semantic-Atlas/data/aligned_segments/segment1/')\n",
    "data1.to_csv('/home/anya/Semantic-Atlas/data/forrest_srt/segment1_phrases.csv', encoding='utf-8')"
   ]
  },
  {
   "cell_type": "code",
   "execution_count": 27,
   "metadata": {
    "collapsed": false
   },
   "outputs": [],
   "source": [
    "write_script_for_cut_audio(885, 1768, '/home/anya/Semantic-Atlas/sh/segm1_cut.sh', 1)"
   ]
  },
  {
   "cell_type": "code",
   "execution_count": null,
   "metadata": {
    "collapsed": false
   },
   "outputs": [],
   "source": [
    "data1 = data[data.start > 1750]\n",
    "data1 = data1[data1.end < 2630]\n",
    "data1.to_csv('/home/anya/Semantic-Atlas/data/aligned_segments/segment2/segment2_phrases.csv', encoding='utf-8')\n",
    "print_subs(data1, 'segment2_phrases.txt', '/home/anya/Semantic-Atlas/data/aligned_segments/segment2/', delay=-0.5)\n",
    "data1.to_csv('/home/anya/Semantic-Atlas/data/forrest_srt/segment2_phrases.csv', encoding='utf-8')\n",
    "write_script_for_cut_audio(1750, 2638, '/home/anya/Semantic-Atlas/sh/segm2_cut.sh', segment_numb=2,delay=-0.5)"
   ]
  },
  {
   "cell_type": "code",
   "execution_count": null,
   "metadata": {
    "collapsed": false
   },
   "outputs": [],
   "source": [
    "data1 = data[data.start > 2610]\n",
    "data1 = data1[data1.end < 3590]\n",
    "data1.to_csv('/home/anya/Semantic-Atlas/data/aligned_segments/segment3/segment3_phrases.csv', encoding='utf-8')\n",
    "print_subs(data1, 'segment3_phrases.txt', '/home/anya/Semantic-Atlas/data/aligned_segments/segment3/', delay=-0.7)\n",
    "data1.to_csv('/home/anya/Semantic-Atlas/data/forrest_srt/segment3_phrases.csv', encoding='utf-8')\n",
    "write_script_for_cut_audio(2610, 3590, '/home/anya/Semantic-Atlas/sh/segm3_cut.sh', segment_numb=3, delay=-0.7)\n",
    "data1.tail()"
   ]
  },
  {
   "cell_type": "code",
   "execution_count": null,
   "metadata": {
    "collapsed": false
   },
   "outputs": [],
   "source": [
    "start = 3570\n",
    "end = 4505\n",
    "data1 = data[data.start > start]\n",
    "data1 = data1[data1.end < end]\n",
    "segment_id = 4\n",
    "delay = 2.2\n",
    "\n",
    "data1.to_csv('/home/anya/Semantic-Atlas/data/aligned_segments/segment{}/segment{}_phrases.csv'.format(segment_id,\n",
    "                                                                                                     segment_id),\n",
    "             encoding='utf-8')\n",
    "print_subs(data1, 'segment{}_phrases.txt'.format(segment_id),\n",
    "           '/home/anya/Semantic-Atlas/data/aligned_segments/segment{}/'.format(segment_id),\n",
    "          delay=delay)\n",
    "data1.to_csv('/home/anya/Semantic-Atlas/data/forrest_srt/segment{}_phrases.csv'.format(segment_id),\n",
    "             encoding='utf-8')\n",
    "write_script_for_cut_audio(start, end, '/home/anya/Semantic-Atlas/sh/segm{}_cut.sh'.format(segment_id),\n",
    "                           segment_numb=4,delay=delay)\n",
    "data1.tail()"
   ]
  },
  {
   "cell_type": "code",
   "execution_count": 75,
   "metadata": {
    "collapsed": false
   },
   "outputs": [
    {
     "data": {
      "text/html": [
       "<div>\n",
       "<table border=\"1\" class=\"dataframe\">\n",
       "  <thead>\n",
       "    <tr style=\"text-align: right;\">\n",
       "      <th></th>\n",
       "      <th>start</th>\n",
       "      <th>end</th>\n",
       "      <th>text</th>\n",
       "    </tr>\n",
       "  </thead>\n",
       "  <tbody>\n",
       "    <tr>\n",
       "      <th>1346</th>\n",
       "      <td>5317.4</td>\n",
       "      <td>5327.3</td>\n",
       "      <td>ss er sieht jenny im weissen kleid ueber den r...</td>\n",
       "    </tr>\n",
       "    <tr>\n",
       "      <th>1347</th>\n",
       "      <td>5329.8</td>\n",
       "      <td>5331.4</td>\n",
       "      <td>ss bedrueckt dreht sich forrest weg</td>\n",
       "    </tr>\n",
       "    <tr>\n",
       "      <th>1348</th>\n",
       "      <td>5334.7</td>\n",
       "      <td>5336.0</td>\n",
       "      <td>ss er schlurft zur tuer…</td>\n",
       "    </tr>\n",
       "    <tr>\n",
       "      <th>1349</th>\n",
       "      <td>5339.8</td>\n",
       "      <td>5341.7</td>\n",
       "      <td>ss … und geht zoegernd zurueck ins haus</td>\n",
       "    </tr>\n",
       "    <tr>\n",
       "      <th>1350</th>\n",
       "      <td>5349.1</td>\n",
       "      <td>5354.0</td>\n",
       "      <td>ss es ist tag neben seinem haus sitzt forrest ...</td>\n",
       "    </tr>\n",
       "  </tbody>\n",
       "</table>\n",
       "</div>"
      ],
      "text/plain": [
       "       start     end                                               text\n",
       "1346  5317.4  5327.3  ss er sieht jenny im weissen kleid ueber den r...\n",
       "1347  5329.8  5331.4                ss bedrueckt dreht sich forrest weg\n",
       "1348  5334.7  5336.0                           ss er schlurft zur tuer…\n",
       "1349  5339.8  5341.7            ss … und geht zoegernd zurueck ins haus\n",
       "1350  5349.1  5354.0  ss es ist tag neben seinem haus sitzt forrest ..."
      ]
     },
     "execution_count": 75,
     "metadata": {},
     "output_type": "execute_result"
    }
   ],
   "source": [
    "start = 4480\n",
    "end = 5355\n",
    "data1 = data[data.start > start]\n",
    "data1 = data1[data1.end < end]\n",
    "segment_id = 5\n",
    "delay = 0.\n",
    "\n",
    "data1.to_csv('/home/anya/Semantic-Atlas/data/aligned_segments/segment{}/segment{}_phrases.csv'.format(segment_id,\n",
    "                                                                                                     segment_id),\n",
    "             encoding='utf-8')\n",
    "print_subs(data1, 'segment{}_phrases.txt'.format(segment_id),\n",
    "           '/home/anya/Semantic-Atlas/data/aligned_segments/segment{}/'.format(segment_id),\n",
    "          delay=delay)\n",
    "data1.to_csv('/home/anya/Semantic-Atlas/data/forrest_srt/segment{}_phrases.csv'.format(segment_id),\n",
    "             encoding='utf-8')\n",
    "write_script_for_cut_audio(start, end, '/home/anya/Semantic-Atlas/sh/segm{}_cut.sh'.format(segment_id),\n",
    "                           segment_numb=segment_id,delay=delay)\n",
    "data1.tail()"
   ]
  },
  {
   "cell_type": "code",
   "execution_count": 74,
   "metadata": {
    "collapsed": false
   },
   "outputs": [
    {
     "data": {
      "text/html": [
       "<div>\n",
       "<table border=\"1\" class=\"dataframe\">\n",
       "  <thead>\n",
       "    <tr style=\"text-align: right;\">\n",
       "      <th></th>\n",
       "      <th>start</th>\n",
       "      <th>end</th>\n",
       "      <th>text</th>\n",
       "    </tr>\n",
       "  </thead>\n",
       "  <tbody>\n",
       "    <tr>\n",
       "      <th>1588</th>\n",
       "      <td>6399.39</td>\n",
       "      <td>6402.826</td>\n",
       "      <td>was guckst du da an  ernie und bert</td>\n",
       "    </tr>\n",
       "    <tr>\n",
       "      <th>1589</th>\n",
       "      <td>6401.20</td>\n",
       "      <td>6402.600</td>\n",
       "      <td>ss forrest setzt sich neben ihn</td>\n",
       "    </tr>\n",
       "    <tr>\n",
       "      <th>1590</th>\n",
       "      <td>6409.00</td>\n",
       "      <td>6410.800</td>\n",
       "      <td>ss jenny beobachtet die beiden geruehrt</td>\n",
       "    </tr>\n",
       "    <tr>\n",
       "      <th>1591</th>\n",
       "      <td>6417.60</td>\n",
       "      <td>6421.900</td>\n",
       "      <td>ss auf einem spielplatz in einem park schaukel...</td>\n",
       "    </tr>\n",
       "    <tr>\n",
       "      <th>1592</th>\n",
       "      <td>6424.35</td>\n",
       "      <td>6428.628</td>\n",
       "      <td>forrest ich bin krank</td>\n",
       "    </tr>\n",
       "  </tbody>\n",
       "</table>\n",
       "</div>"
      ],
      "text/plain": [
       "        start       end                                               text\n",
       "1588  6399.39  6402.826                was guckst du da an  ernie und bert\n",
       "1589  6401.20  6402.600                    ss forrest setzt sich neben ihn\n",
       "1590  6409.00  6410.800            ss jenny beobachtet die beiden geruehrt\n",
       "1591  6417.60  6421.900  ss auf einem spielplatz in einem park schaukel...\n",
       "1592  6424.35  6428.628                              forrest ich bin krank"
      ]
     },
     "execution_count": 74,
     "metadata": {},
     "output_type": "execute_result"
    }
   ],
   "source": [
    "start = 5349\n",
    "end = 6430\n",
    "segment_id = 6\n",
    "delay = 7.\n",
    "\n",
    "\n",
    "data1 = data[data.start > start]\n",
    "data1 = data1[data1.end < end]\n",
    "data1.to_csv('/home/anya/Semantic-Atlas/data/aligned_segments/segment{}/segment{}_phrases.csv'.format(segment_id,\n",
    "                                                                                                     segment_id),\n",
    "             encoding='utf-8')\n",
    "print_subs(data1, 'segment{}_phrases.txt'.format(segment_id),\n",
    "           '/home/anya/Semantic-Atlas/data/aligned_segments/segment{}/'.format(segment_id),\n",
    "          delay=delay)\n",
    "data1.to_csv('/home/anya/Semantic-Atlas/data/forrest_srt/segment{}_phrases.csv'.format(segment_id),\n",
    "             encoding='utf-8')\n",
    "write_script_for_cut_audio(start, end, '/home/anya/Semantic-Atlas/sh/segm{}_cut.sh'.format(segment_id),\n",
    "                           segment_numb=segment_id,delay=delay)\n",
    "data1.tail()"
   ]
  },
  {
   "cell_type": "code",
   "execution_count": 73,
   "metadata": {
    "collapsed": false
   },
   "outputs": [
    {
     "data": {
      "text/html": [
       "<div>\n",
       "<table border=\"1\" class=\"dataframe\">\n",
       "  <thead>\n",
       "    <tr style=\"text-align: right;\">\n",
       "      <th></th>\n",
       "      <th>start</th>\n",
       "      <th>end</th>\n",
       "      <th>text</th>\n",
       "    </tr>\n",
       "  </thead>\n",
       "  <tbody>\n",
       "    <tr>\n",
       "      <th>1591</th>\n",
       "      <td>6417.60</td>\n",
       "      <td>6421.900</td>\n",
       "      <td>ss auf einem spielplatz in einem park schaukel...</td>\n",
       "    </tr>\n",
       "    <tr>\n",
       "      <th>1592</th>\n",
       "      <td>6424.35</td>\n",
       "      <td>6428.628</td>\n",
       "      <td>forrest ich bin krank</td>\n",
       "    </tr>\n",
       "    <tr>\n",
       "      <th>1593</th>\n",
       "      <td>6431.07</td>\n",
       "      <td>6434.426</td>\n",
       "      <td>was hast du einen husten wegen einer erkaeltung</td>\n",
       "    </tr>\n",
       "    <tr>\n",
       "      <th>1594</th>\n",
       "      <td>6434.51</td>\n",
       "      <td>6439.584</td>\n",
       "      <td>ich habe einen virus die aerzte wissen nicht w...</td>\n",
       "    </tr>\n",
       "    <tr>\n",
       "      <th>1595</th>\n",
       "      <td>6439.67</td>\n",
       "      <td>6442.707</td>\n",
       "      <td>und es gibt nichts was sie dagegen tun koennen</td>\n",
       "    </tr>\n",
       "  </tbody>\n",
       "</table>\n",
       "</div>"
      ],
      "text/plain": [
       "        start       end                                               text\n",
       "1591  6417.60  6421.900  ss auf einem spielplatz in einem park schaukel...\n",
       "1592  6424.35  6428.628                              forrest ich bin krank\n",
       "1593  6431.07  6434.426    was hast du einen husten wegen einer erkaeltung\n",
       "1594  6434.51  6439.584  ich habe einen virus die aerzte wissen nicht w...\n",
       "1595  6439.67  6442.707     und es gibt nichts was sie dagegen tun koennen"
      ]
     },
     "execution_count": 73,
     "metadata": {},
     "output_type": "execute_result"
    }
   ],
   "source": [
    "start = 6410\n",
    "end = 9000\n",
    "segment_id = 7\n",
    "delay = 5.\n",
    "\n",
    "\n",
    "data1 = data[data.start > start]\n",
    "data1 = data1[data1.end < end]\n",
    "data1.to_csv('/home/anya/Semantic-Atlas/data/aligned_segments/segment{}/segment{}_phrases.csv'.format(segment_id,\n",
    "                                                                                                     segment_id),\n",
    "             encoding='utf-8')\n",
    "print_subs(data1, 'segment{}_phrases.txt'.format(segment_id),\n",
    "           '/home/anya/Semantic-Atlas/data/aligned_segments/segment{}/'.format(segment_id),\n",
    "          delay=delay)\n",
    "data1.to_csv('/home/anya/Semantic-Atlas/data/forrest_srt/segment{}_phrases.csv'.format(segment_id),\n",
    "             encoding='utf-8')\n",
    "write_script_for_cut_audio(start, end, '/home/anya/Semantic-Atlas/sh/segm{}_cut.sh'.format(segment_id),\n",
    "                           segment_numb=segment_id,delay=delay)\n",
    "data1.head()"
   ]
  },
  {
   "cell_type": "code",
   "execution_count": 35,
   "metadata": {
    "collapsed": false
   },
   "outputs": [
    {
     "data": {
      "text/html": [
       "<div>\n",
       "<table border=\"1\" class=\"dataframe\">\n",
       "  <thead>\n",
       "    <tr style=\"text-align: right;\">\n",
       "      <th></th>\n",
       "      <th>start</th>\n",
       "      <th>end</th>\n",
       "      <th>text</th>\n",
       "      <th>duration</th>\n",
       "    </tr>\n",
       "  </thead>\n",
       "  <tbody>\n",
       "    <tr>\n",
       "      <th>208</th>\n",
       "      <td>890.0</td>\n",
       "      <td>892.500</td>\n",
       "      <td>ss die krankenschwester sieht ungeruehrt in ih...</td>\n",
       "      <td>2.500</td>\n",
       "    </tr>\n",
       "    <tr>\n",
       "      <th>209</th>\n",
       "      <td>892.6</td>\n",
       "      <td>896.309</td>\n",
       "      <td>meine mama sagte immer dass wunder jeden tag p...</td>\n",
       "      <td>3.709</td>\n",
       "    </tr>\n",
       "    <tr>\n",
       "      <th>210</th>\n",
       "      <td>896.2</td>\n",
       "      <td>897.300</td>\n",
       "      <td>ss ss die schwester blickt hoch</td>\n",
       "      <td>1.100</td>\n",
       "    </tr>\n",
       "    <tr>\n",
       "      <th>211</th>\n",
       "      <td>896.4</td>\n",
       "      <td>899.949</td>\n",
       "      <td>manche leute glauben das nicht aber es stimmt</td>\n",
       "      <td>3.549</td>\n",
       "    </tr>\n",
       "    <tr>\n",
       "      <th>212</th>\n",
       "      <td>900.2</td>\n",
       "      <td>902.800</td>\n",
       "      <td>ss ss forrest und jenny auf einem weg er krieg...</td>\n",
       "      <td>2.600</td>\n",
       "    </tr>\n",
       "  </tbody>\n",
       "</table>\n",
       "</div>"
      ],
      "text/plain": [
       "     start      end                                               text  \\\n",
       "208  890.0  892.500  ss die krankenschwester sieht ungeruehrt in ih...   \n",
       "209  892.6  896.309  meine mama sagte immer dass wunder jeden tag p...   \n",
       "210  896.2  897.300                    ss ss die schwester blickt hoch   \n",
       "211  896.4  899.949      manche leute glauben das nicht aber es stimmt   \n",
       "212  900.2  902.800  ss ss forrest und jenny auf einem weg er krieg...   \n",
       "\n",
       "     duration  \n",
       "208     2.500  \n",
       "209     3.709  \n",
       "210     1.100  \n",
       "211     3.549  \n",
       "212     2.600  "
      ]
     },
     "execution_count": 35,
     "metadata": {},
     "output_type": "execute_result"
    }
   ],
   "source": [
    "start = 0\n",
    "end = 903\n",
    "segment_id = 0\n",
    "delay = 1.\n",
    "\n",
    "\n",
    "data1 = data[data.start > start]\n",
    "data1 = data1[data1.end < end]\n",
    "data1.to_csv('/home/anya/Semantic-Atlas/data/aligned_segments/segment{}/segment{}_phrases.csv'.format(segment_id,\n",
    "                                                                                                     segment_id),\n",
    "             encoding='utf-8')\n",
    "print_subs(data1, 'segment{}_phrases.txt'.format(segment_id),\n",
    "           '/home/anya/Semantic-Atlas/data/aligned_segments/segment{}/'.format(segment_id),\n",
    "          delay=delay)\n",
    "data1.to_csv('/home/anya/Semantic-Atlas/data/forrest_srt/segment{}_phrases.csv'.format(segment_id),\n",
    "             encoding='utf-8')\n",
    "write_script_for_cut_audio(start, end, '/home/anya/Semantic-Atlas/sh/segm{}_cut.sh'.format(segment_id),\n",
    "                           segment_numb=segment_id,delay=delay)\n",
    "data1.tail()"
   ]
  },
  {
   "cell_type": "code",
   "execution_count": null,
   "metadata": {
    "collapsed": true
   },
   "outputs": [],
   "source": []
  },
  {
   "cell_type": "code",
   "execution_count": null,
   "metadata": {
    "collapsed": true
   },
   "outputs": [],
   "source": []
  }
 ],
 "metadata": {
  "kernelspec": {
   "display_name": "Python 2",
   "language": "python",
   "name": "python2"
  },
  "language_info": {
   "codemirror_mode": {
    "name": "ipython",
    "version": 2
   },
   "file_extension": ".py",
   "mimetype": "text/x-python",
   "name": "python",
   "nbconvert_exporter": "python",
   "pygments_lexer": "ipython2",
   "version": "2.7.10"
  }
 },
 "nbformat": 4,
 "nbformat_minor": 0
}
