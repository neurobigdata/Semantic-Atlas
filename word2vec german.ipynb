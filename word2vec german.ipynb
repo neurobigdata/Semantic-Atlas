{
 "cells": [
  {
   "cell_type": "code",
   "execution_count": 15,
   "metadata": {
    "collapsed": false
   },
   "outputs": [],
   "source": [
    "import gensim.models\n",
    "import pickle\n",
    "import string"
   ]
  },
  {
   "cell_type": "code",
   "execution_count": 2,
   "metadata": {
    "collapsed": true
   },
   "outputs": [],
   "source": [
    "model = gensim.models.Word2Vec.load_word2vec_format(\"german.model\", binary=True)"
   ]
  },
  {
   "cell_type": "code",
   "execution_count": 79,
   "metadata": {
    "collapsed": false
   },
   "outputs": [
    {
     "name": "stdout",
     "output_type": "stream",
     "text": [
      "!\"#$%&'()*+,-./:;<=>?@[\\]^_`{|}~ 0123456789\n"
     ]
    }
   ],
   "source": [
    "print string.punctuation, string.digits"
   ]
  },
  {
   "cell_type": "code",
   "execution_count": 159,
   "metadata": {
    "collapsed": true
   },
   "outputs": [],
   "source": [
    "umlautDictionary = {u'Ä': 'Ae', u'Ö': 'Oe', u'Ü': 'Ue',  u'ä': 'ae', u'ö': 'oe', u'ü': 'ue', u'ß':u'ss'}"
   ]
  },
  {
   "cell_type": "code",
   "execution_count": 160,
   "metadata": {
    "collapsed": false
   },
   "outputs": [
    {
     "name": "stdout",
     "output_type": "stream",
     "text": [
      "1\r\n",
      "00:06:19,933 --> 00:06:24,404\r\n",
      "Hallo. Mein Name ist Forrest.\r\n",
      "Forrest Gump.\r\n",
      "\r\n",
      "2\r\n",
      "00:06:30,093 --> 00:06:31,924\r\n",
      "Möchten Sie eine Praline?\r\n",
      "\r\n",
      "3\r\n",
      "00:06:34,253 --> 00:06:38,610\r\n",
      "Die könnte ich pfundweise essen.\r\n",
      "\r\n",
      "4\r\n",
      "00:06:38,693 --> 00:06:43,403\r\n",
      "Meine Mama sagte immer, das Leben\r\n",
      "ist wie eine S\n"
     ]
    }
   ],
   "source": [
    "with open('Forrest Gump.srt') as f:\n",
    "    text = f.read().rstrip()\n",
    "    print text[:300]\n",
    "    table = string.maketrans(\"\", \"\")\n",
    "    text = text.translate(table,string.punctuation)\n",
    "    text = text.translate(table, string.digits)\n",
    "    text = text.lower().decode('utf-8')\n",
    "    for uml, norm_letter in umlautDictionary.iteritems():\n",
    "        text = text.replace(uml, norm_letter)\n",
    "    text = text.split()"
   ]
  },
  {
   "cell_type": "code",
   "execution_count": 183,
   "metadata": {
    "collapsed": false
   },
   "outputs": [
    {
     "data": {
      "text/plain": [
       "[u'hallo',\n",
       " u'mein',\n",
       " u'name',\n",
       " u'ist',\n",
       " u'forrest',\n",
       " u'forrest',\n",
       " u'gump',\n",
       " u'moechten',\n",
       " u'sie',\n",
       " u'eine',\n",
       " u'praline',\n",
       " u'die',\n",
       " u'koennte',\n",
       " u'ich',\n",
       " u'pfundweise',\n",
       " u'essen',\n",
       " u'meine',\n",
       " u'mama',\n",
       " u'sagte',\n",
       " u'immer']"
      ]
     },
     "execution_count": 183,
     "metadata": {},
     "output_type": "execute_result"
    }
   ],
   "source": [
    "text[:20]"
   ]
  },
  {
   "cell_type": "code",
   "execution_count": 184,
   "metadata": {
    "collapsed": false
   },
   "outputs": [],
   "source": [
    "word_to_vec = dict()\n",
    "counter = 0\n",
    "unprocessed_words = []\n",
    "text_words = set(text)"
   ]
  },
  {
   "cell_type": "code",
   "execution_count": 185,
   "metadata": {
    "collapsed": false,
    "scrolled": true
   },
   "outputs": [],
   "source": [
    "for word in text_words:\n",
    "    try:\n",
    "        if word in model.vocab:\n",
    "            word_to_vec[word] = model[word]\n",
    "        else:\n",
    "            word_to_vec[word] = model[word.title()]\n",
    "    except KeyError as e:\n",
    "        unprocessed_words.append(word)"
   ]
  },
  {
   "cell_type": "code",
   "execution_count": 188,
   "metadata": {
    "collapsed": false
   },
   "outputs": [
    {
     "data": {
      "text/plain": [
       "0.9245754245754245"
      ]
     },
     "execution_count": 188,
     "metadata": {},
     "output_type": "execute_result"
    }
   ],
   "source": [
    "len(word_to_vec.keys()) * 1. / len(text_words)"
   ]
  },
  {
   "cell_type": "code",
   "execution_count": 196,
   "metadata": {
    "collapsed": false
   },
   "outputs": [],
   "source": [
    "with open('word2vec_german_sub.pickle', 'w') as f_out:\n",
    "    pickle.dump(word_to_vec, f_out)"
   ]
  },
  {
   "cell_type": "code",
   "execution_count": 197,
   "metadata": {
    "collapsed": false
   },
   "outputs": [
    {
     "data": {
      "text/plain": [
       "[u'versprichst',\n",
       " u'babykiller',\n",
       " u'greenbowcountycentralschule',\n",
       " u'autoaufkleberspruch',\n",
       " u'steigst',\n",
       " u'rauchsignale',\n",
       " u'ananasshrimps',\n",
       " u'creekmore',\n",
       " u'armeeausruestung',\n",
       " u'dylon',\n",
       " u'bubbagumpgeld',\n",
       " u'lmmer',\n",
       " u'moerserfeuer',\n",
       " u'flexoliteschlaeger',\n",
       " u'batres',\n",
       " u'foursquaregospelkirche',\n",
       " u'shrimpkutter',\n",
       " u'werdich',\n",
       " u'begrapschen',\n",
       " u'bubbagumpshrimps',\n",
       " u'pingpongnationalteam',\n",
       " u'iq',\n",
       " u'heiterte',\n",
       " u'versehrtenheim',\n",
       " u'collegefootballnationalteam',\n",
       " u'downloaded',\n",
       " u'aufwischen',\n",
       " u'shrimpkebabs',\n",
       " u'herbringen',\n",
       " u'pfeffershrimps',\n",
       " u'shrimpgeschaeft',\n",
       " u'mistkerle',\n",
       " u'zeigs',\n",
       " u'obstgesellschaft',\n",
       " u'leckende',\n",
       " u'hutschachteln',\n",
       " u'werddir',\n",
       " u'truthahnbroetchen',\n",
       " u'shrimpfischen',\n",
       " u'shrimpfischer',\n",
       " u'sagtehier',\n",
       " u'plapperte',\n",
       " u'schnuckel',\n",
       " u'ebbott',\n",
       " u'shrimpkreole',\n",
       " u'guckst',\n",
       " u'shrimpburger',\n",
       " u'mistkerl',\n",
       " u'offizierskandidaten',\n",
       " u'zauberbeine',\n",
       " u'zitronenshrimps',\n",
       " u'shrimpsalat',\n",
       " u'zillionaer',\n",
       " u'immerlass',\n",
       " u'nennst',\n",
       " u'bubbagumpshrimpscorporation',\n",
       " u'krankenhausleute',\n",
       " u'drillsergeant',\n",
       " u'sautieren',\n",
       " u'zurueckkommst',\n",
       " u'schdies',\n",
       " u'barbecues',\n",
       " u'amerikaflagge',\n",
       " u'pingpongspielen',\n",
       " u'werddich',\n",
       " u'autoaufkleber',\n",
       " u'hochsprang',\n",
       " u'beatnikschoenheit',\n",
       " u'titaniumlegierung',\n",
       " u'tshirt',\n",
       " u'dorftrottel',\n",
       " u'schrillte',\n",
       " u'drpeppercolas',\n",
       " u'faendest',\n",
       " u'pimmel',\n",
       " u'frotteesohle',\n",
       " u'seebeine',\n",
       " u'undschdas',\n",
       " u'rauszuziehen',\n",
       " u'dasschwort',\n",
       " u'luegende',\n",
       " u'lhr',\n",
       " u'shrimpeintopf',\n",
       " u'weitergehst',\n",
       " u'sagtest',\n",
       " u'kampfausruestung',\n",
       " u'shrimpkutterkapitaen',\n",
       " u'collegejacke',\n",
       " u'heiratest',\n",
       " u'pfundweise',\n",
       " u'werdmich',\n",
       " u'ueberpruef',\n",
       " u'tapferkeitsmedaillen',\n",
       " u'shrimpkuttern',\n",
       " u'verpisst',\n",
       " u'beeilung',\n",
       " u'shrimplndustrie',\n",
       " u'hundescheisse',\n",
       " u'shrimpcocktails',\n",
       " u'bubbas',\n",
       " u'scheissvietnam',\n",
       " u'wunderschoenste',\n",
       " u'gewesen',\n",
       " u'sds',\n",
       " u'lehnst',\n",
       " u'kukluxklan',\n",
       " u'regst',\n",
       " u'spaceshuttle',\n",
       " u'hastne',\n",
       " u'shrimpsuppe',\n",
       " u'leintuecher',\n",
       " u'gumps',\n",
       " u'versenkst',\n",
       " u'platoonsergeant',\n",
       " u'mcmill',\n",
       " u'fischerkrankenhaus',\n",
       " u'pingpongkram',\n",
       " u'schmissne',\n",
       " u'lhre',\n",
       " u'spritgeld',\n",
       " u'greenbow',\n",
       " u'solchem',\n",
       " u'werdnicht',\n",
       " u'kokosnussshrimps',\n",
       " u'shrimpsandwich',\n",
       " u'shrimpbootkapitaen',\n",
       " u'batre',\n",
       " u'starbst',\n",
       " u'astorhotels',\n",
       " u'istn',\n",
       " u'tshirts',\n",
       " u'pingpongteam',\n",
       " u'kampfbomber',\n",
       " u'schwachkopf',\n",
       " u'scheisskrieg',\n",
       " u'lauferei',\n",
       " u'uspingpongteam',\n",
       " u'prasselnden',\n",
       " u'kompanierekord',\n",
       " u'shrimpfang',\n",
       " u'rauskamen',\n",
       " u'ausruhte',\n",
       " u'mitbubbagumpdrauf',\n",
       " u'titte',\n",
       " u'zurueckgebliebener',\n",
       " u'sindn',\n",
       " u'bewegst',\n",
       " u'zauberschuhe',\n",
       " u'dichsirrufe',\n",
       " u'wwwallsubsorg',\n",
       " u'krueppelarsch']"
      ]
     },
     "execution_count": 197,
     "metadata": {},
     "output_type": "execute_result"
    }
   ],
   "source": [
    "unprocessed_words"
   ]
  },
  {
   "cell_type": "code",
   "execution_count": null,
   "metadata": {
    "collapsed": true
   },
   "outputs": [],
   "source": []
  },
  {
   "cell_type": "code",
   "execution_count": null,
   "metadata": {
    "collapsed": true
   },
   "outputs": [],
   "source": []
  }
 ],
 "metadata": {
  "kernelspec": {
   "display_name": "Python 2",
   "language": "python",
   "name": "python2"
  },
  "language_info": {
   "codemirror_mode": {
    "name": "ipython",
    "version": 2
   },
   "file_extension": ".py",
   "mimetype": "text/x-python",
   "name": "python",
   "nbconvert_exporter": "python",
   "pygments_lexer": "ipython2",
   "version": "2.7.10"
  }
 },
 "nbformat": 4,
 "nbformat_minor": 0
}
