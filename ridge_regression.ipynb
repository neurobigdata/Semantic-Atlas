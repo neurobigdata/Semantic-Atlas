{
 "cells": [
  {
   "cell_type": "code",
   "execution_count": 39,
   "metadata": {
    "collapsed": true
   },
   "outputs": [],
   "source": [
    "from sklearn.linear_model import Ridge\n",
    "import numpy as np\n",
    "import time\n",
    "import string\n",
    "from copy import copy\n",
    "import pickle"
   ]
  },
  {
   "cell_type": "code",
   "execution_count": 2,
   "metadata": {
    "collapsed": false
   },
   "outputs": [],
   "source": [
    "umlautDictionary = {u'Ä': 'Ae', u'Ö': 'Oe', u'Ü': 'Ue',  u'ä': 'ae', u'ö': 'oe', u'ü': 'ue', u'ß':u'ss'}\n",
    "with open('Forrest Gump.srt') as f_srt:\n",
    "    text = f_srt.read().decode('utf-8')\n",
    "\n",
    "for uml, norm_letter in umlautDictionary.iteritems():\n",
    "    text = text.replace(uml, norm_letter)\n",
    "\n",
    "text = text.split('\\r\\n')\n",
    "text = filter(lambda s: s != u'', text)"
   ]
  },
  {
   "cell_type": "code",
   "execution_count": 12,
   "metadata": {
    "collapsed": false
   },
   "outputs": [
    {
     "name": "stdout",
     "output_type": "stream",
     "text": [
      "00:06:19,933 --> 00:06:24,404\n",
      "0 6 19\n",
      "0 6 24\n"
     ]
    }
   ],
   "source": [
    "timestamps = filter(lambda s: '>' in s, text)\n",
    "\n",
    "number_indecies = filter(lambda s: text[s].isdigit(), range(len(text)))\n",
    "timestamp_indecies = filter(lambda s: text[s] in timestamps, range(len(text)))\n",
    "text_indecies = filter(lambda s: not (s in number_indecies or s in timestamp_indecies) , range(len(text)))\n",
    "\n",
    "assert len(timestamps) == len(number_indecies)\n",
    "\n",
    "parsed_timestamps = map(lambda s: [time.strptime(s[:12], '%H:%M:%S,%f'), \n",
    "                            time.strptime(s[17:], '%H:%M:%S,%f')], timestamps)\n",
    "print timestamps[0]\n",
    "print parsed_timestamps[0][0].tm_hour, parsed_timestamps[0][0].tm_min, parsed_timestamps[0][0].tm_sec\n",
    "print parsed_timestamps[0][1].tm_hour, parsed_timestamps[0][1].tm_min, parsed_timestamps[0][1].tm_sec"
   ]
  },
  {
   "cell_type": "code",
   "execution_count": 29,
   "metadata": {
    "collapsed": false
   },
   "outputs": [],
   "source": [
    "table = string.maketrans(\"\", \"\")\n",
    "parsed_phrases = []\n",
    "\n",
    "for phrase in phrases:\n",
    "    phrase = phrase.encode('utf-8')\n",
    "    phrase = phrase.translate(table,string.punctuation)\n",
    "    phrase = phrase.translate(table, string.digits)\n",
    "    phrase = phrase.lower().decode('utf-8')\n",
    "    phrase = phrase.split(' ')\n",
    "    phrase = filter(lambda s: s != u'', phrase)\n",
    "    parsed_phrases.append(phrase)"
   ]
  },
  {
   "cell_type": "code",
   "execution_count": 30,
   "metadata": {
    "collapsed": false
   },
   "outputs": [
    {
     "data": {
      "text/plain": [
       "[[u'hallo', u'mein', u'name', u'ist', u'forrestforrest', u'gump'],\n",
       " [u'moechten', u'sie', u'eine', u'praline'],\n",
       " [u'die', u'koennte', u'ich', u'pfundweise', u'essen']]"
      ]
     },
     "execution_count": 30,
     "metadata": {},
     "output_type": "execute_result"
    }
   ],
   "source": [
    "parsed_phrases[:3]"
   ]
  },
  {
   "cell_type": "code",
   "execution_count": 31,
   "metadata": {
    "collapsed": false
   },
   "outputs": [
    {
     "name": "stdout",
     "output_type": "stream",
     "text": [
      "([time.struct_time(tm_year=1900, tm_mon=1, tm_mday=1, tm_hour=0, tm_min=6, tm_sec=19, tm_wday=0, tm_yday=1, tm_isdst=-1), time.struct_time(tm_year=1900, tm_mon=1, tm_mday=1, tm_hour=0, tm_min=6, tm_sec=24, tm_wday=0, tm_yday=1, tm_isdst=-1)], [u'hallo', u'mein', u'name', u'ist', u'forrestforrest', u'gump'])\n"
     ]
    }
   ],
   "source": [
    "parsed_srt = zip(parsed_timestamps, parsed_phrases)\n",
    "print parsed_srt[0]"
   ]
  },
  {
   "cell_type": "code",
   "execution_count": 32,
   "metadata": {
    "collapsed": true
   },
   "outputs": [],
   "source": [
    "with open('parsed_srt.pickle', 'wb') as f:\n",
    "    pickle.dump(parsed_srt, f)"
   ]
  },
  {
   "cell_type": "code",
   "execution_count": 33,
   "metadata": {
    "collapsed": true
   },
   "outputs": [],
   "source": [
    "with open('word2vec_german_sub.pickle') as f:\n",
    "    word_to_vec_dict = pickle.load(f)"
   ]
  },
  {
   "cell_type": "code",
   "execution_count": 34,
   "metadata": {
    "collapsed": false
   },
   "outputs": [],
   "source": [
    "time_vectors = []\n",
    "erros_word = []\n",
    "parsed_words = 0\n",
    "\n",
    "for phrase in parsed_phrases:\n",
    "    time_vectors.append([])\n",
    "    for word in phrase:\n",
    "        try:\n",
    "            time_vectors[-1].append(word_to_vec_dict[word])\n",
    "            parsed_words += 1\n",
    "        except KeyError:\n",
    "            erros_word.append(word)"
   ]
  },
  {
   "cell_type": "code",
   "execution_count": 48,
   "metadata": {
    "collapsed": false
   },
   "outputs": [],
   "source": [
    "timestamps_vectors = zip(timestamps, time_vectors)\n",
    "\n",
    "with open(\"timestamp_vectors.pickle\", 'wb') as f:\n",
    "    pickl"
   ]
  },
  {
   "cell_type": "code",
   "execution_count": null,
   "metadata": {
    "collapsed": true
   },
   "outputs": [],
   "source": []
  }
 ],
 "metadata": {
  "kernelspec": {
   "display_name": "Python 2",
   "language": "python",
   "name": "python2"
  },
  "language_info": {
   "codemirror_mode": {
    "name": "ipython",
    "version": 2
   },
   "file_extension": ".py",
   "mimetype": "text/x-python",
   "name": "python",
   "nbconvert_exporter": "python",
   "pygments_lexer": "ipython2",
   "version": "2.7.10"
  }
 },
 "nbformat": 4,
 "nbformat_minor": 0
}
